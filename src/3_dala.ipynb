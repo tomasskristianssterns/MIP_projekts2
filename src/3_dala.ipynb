{
  "cells": [
    {
      "cell_type": "markdown",
      "metadata": {
        "id": "qSZfcmo2a3w3"
      },
      "source": [
        "Datu ielasīšana, priekšapstrāde un sākotnējā atspoguļošana\n",
        "---\n",
        "\n"
      ]
    },
    {
      "cell_type": "code",
      "execution_count": 1,
      "metadata": {
        "id": "_gMBrFC_S3JA"
      },
      "outputs": [],
      "source": [
        "#Visu datu ielasīšanai, priekšapstrādei un vizualizācijai nepieciešamo bibliotēku pievienošana\n",
        "import csv          \n",
        "import requests     \n",
        "import numpy as np  \n",
        "import pandas as pd \n",
        "import matplotlib\n",
        "import matplotlib.pyplot as plt\n",
        "import seaborn as sns\n",
        "import scipy.stats as stats"
      ]
    },
    {
      "cell_type": "code",
      "execution_count": 3,
      "metadata": {
        "colab": {
          "base_uri": "https://localhost:8080/"
        },
        "id": "fnkTnkNiS6Sq",
        "outputId": "a2c71292-6684-45d8-8565-5a9772ca1134"
      },
      "outputs": [
        {
          "name": "stdout",
          "output_type": "stream",
          "text": [
            "Age                 int64\n",
            "Sex                object\n",
            "ChestPainType      object\n",
            "RestingBP           int64\n",
            "Cholesterol         int64\n",
            "FastingBS           int64\n",
            "RestingECG         object\n",
            "MaxHR               int64\n",
            "ExerciseAngina     object\n",
            "Oldpeak           float64\n",
            "ST_Slope           object\n",
            "HeartDisease        int64\n",
            "dtype: object\n"
          ]
        }
      ],
      "source": [
        "#Pieslēgšanas Google kontam\n",
        "# from google.colab import drive\n",
        "# drive.mount('/content/gdrive')\n",
        "#Tiek iegūts diska saturs\n",
        "#  import os\n",
        "# os.chdir(\"/content/gdrive/MyDrive/Colab Notebooks\")\n",
        "# !ls\n",
        "#Tiek nolasīts datu kopas fails\n",
        "# datu_kopa = pd.read_csv('C:/Users/valte/source/repos/MIP_projekts2/dataset/filtered_heart.csv')\n",
        "datu_kopa = pd.read_csv('C:/Users/Tomass/Desktop/Uni/MIP_projekts2/dataset/filtered_heart.csv')\n",
        "#Tiek atspoguļoti datu kopas kolonu datu tipi\n",
        "print(datu_kopa.dtypes) "
      ]
    },
    {
      "cell_type": "markdown",
      "metadata": {
        "id": "kzOgmQHYrhsu"
      },
      "source": [
        "### Datu tipu salāgošana "
      ]
    },
    {
      "cell_type": "code",
      "execution_count": 4,
      "metadata": {
        "colab": {
          "base_uri": "https://localhost:8080/"
        },
        "id": "wiiGMGnO_UtH",
        "outputId": "fbc0aeff-3f7c-4694-e0fb-52a627d6d2ba"
      },
      "outputs": [
        {
          "name": "stdout",
          "output_type": "stream",
          "text": [
            "   Age Sex ChestPainType  RestingBP  Cholesterol  FastingBS RestingECG  MaxHR  \\\n",
            "0   40   M           ATA        140          289          0     Normal    172   \n",
            "1   49   F           NAP        160          180          0     Normal    156   \n",
            "2   37   M           ATA        130          283          0         ST     98   \n",
            "3   48   F           ASY        138          214          0     Normal    108   \n",
            "4   54   M           NAP        150          195          0     Normal    122   \n",
            "5   39   M           NAP        120          339          0     Normal    170   \n",
            "6   45   F           ATA        130          237          0     Normal    170   \n",
            "\n",
            "  ExerciseAngina  Oldpeak ST_Slope  HeartDisease  \n",
            "0              N      0.0       Up             0  \n",
            "1              N      1.0     Flat             1  \n",
            "2              N      0.0       Up             0  \n",
            "3              Y      1.5     Flat             1  \n",
            "4              N      0.0       Up             0  \n",
            "5              N      0.0       Up             0  \n",
            "6              N      0.0       Up             0  \n"
          ]
        }
      ],
      "source": [
        "#Tā kā kategoriskiem atribūtiem tiek norādīts tips \"object\", tas tiek mainīts uz \"category\"\n",
        "datu_kopa[\"Sex\"] = datu_kopa[\"Sex\"].astype('category')\n",
        "datu_kopa[\"ChestPainType\"] = datu_kopa[\"ChestPainType\"].astype('category')\n",
        "datu_kopa[\"RestingECG\"] = datu_kopa[\"RestingECG\"].astype('category')\n",
        "datu_kopa[\"ExerciseAngina\"] = datu_kopa[\"ExerciseAngina\"].astype('category')\n",
        "datu_kopa[\"ST_Slope\"] = datu_kopa[\"ST_Slope\"].astype('category')\n",
        "#Tiek izvadīti pirmie 7 ieraksti datu kopā\n",
        "print(datu_kopa.head(7))"
      ]
    },
    {
      "cell_type": "code",
      "execution_count": 5,
      "metadata": {
        "colab": {
          "base_uri": "https://localhost:8080/"
        },
        "id": "bHLRa0FLYNm1",
        "outputId": "d1e0a7dd-0b2b-48fe-b3a5-840b134ef974"
      },
      "outputs": [
        {
          "name": "stdout",
          "output_type": "stream",
          "text": [
            "Age                      int64\n",
            "Sex                   category\n",
            "ChestPainType         category\n",
            "RestingBP                int64\n",
            "Cholesterol              int64\n",
            "FastingBS                int64\n",
            "RestingECG            category\n",
            "MaxHR                    int64\n",
            "ExerciseAngina        category\n",
            "Oldpeak                float64\n",
            "ST_Slope              category\n",
            "HeartDisease             int64\n",
            "Sex_cat                   int8\n",
            "ChestPainType_cat         int8\n",
            "RestingECG_cat            int8\n",
            "ExerciseAngina_cat        int8\n",
            "ST_Slope_cat              int8\n",
            "dtype: object\n",
            "   Age Sex ChestPainType  RestingBP  Cholesterol  FastingBS RestingECG  MaxHR  \\\n",
            "0   40   M           ATA        140          289          0     Normal    172   \n",
            "1   49   F           NAP        160          180          0     Normal    156   \n",
            "2   37   M           ATA        130          283          0         ST     98   \n",
            "3   48   F           ASY        138          214          0     Normal    108   \n",
            "4   54   M           NAP        150          195          0     Normal    122   \n",
            "5   39   M           NAP        120          339          0     Normal    170   \n",
            "6   45   F           ATA        130          237          0     Normal    170   \n",
            "\n",
            "  ExerciseAngina  Oldpeak ST_Slope  HeartDisease  Sex_cat  ChestPainType_cat  \\\n",
            "0              N      0.0       Up             0        1                  1   \n",
            "1              N      1.0     Flat             1        0                  2   \n",
            "2              N      0.0       Up             0        1                  1   \n",
            "3              Y      1.5     Flat             1        0                  0   \n",
            "4              N      0.0       Up             0        1                  2   \n",
            "5              N      0.0       Up             0        1                  2   \n",
            "6              N      0.0       Up             0        0                  1   \n",
            "\n",
            "   RestingECG_cat  ExerciseAngina_cat  ST_Slope_cat  \n",
            "0               1                   0             2  \n",
            "1               1                   0             1  \n",
            "2               2                   0             2  \n",
            "3               1                   1             1  \n",
            "4               1                   0             2  \n",
            "5               1                   0             2  \n",
            "6               1                   0             2  \n"
          ]
        }
      ],
      "source": [
        "#Tiek izveidotas jaunas kolonas kategoriskajiem atribūtiem un to vērtības tiek pārvērstas par skaitliskām vērtībām\n",
        "datu_kopa[\"Sex_cat\"] = datu_kopa[\"Sex\"].cat.codes\n",
        "datu_kopa[\"ChestPainType_cat\"] = datu_kopa[\"ChestPainType\"].cat.codes\n",
        "datu_kopa[\"RestingECG_cat\"] = datu_kopa[\"RestingECG\"].cat.codes\n",
        "datu_kopa[\"ExerciseAngina_cat\"] = datu_kopa[\"ExerciseAngina\"].cat.codes\n",
        "datu_kopa[\"ST_Slope_cat\"] = datu_kopa[\"ST_Slope\"].cat.codes\n",
        "#Tiek atspoguļoti datu kopas kolonu datu tipi\n",
        "print(datu_kopa.dtypes)\n",
        "#Tiek izvadīti pirmie 7 ieraksti datu kopā\n",
        "print(datu_kopa.head(7))\n",
        "# a = datu_kopa\n",
        "# print(a)"
      ]
    },
    {
      "cell_type": "markdown",
      "metadata": {
        "id": "L8cs2e3ern4E"
      },
      "source": [
        "###Informācijas par datu kopu izvade un analīze"
      ]
    },
    {
      "cell_type": "code",
      "execution_count": 6,
      "metadata": {
        "colab": {
          "base_uri": "https://localhost:8080/"
        },
        "id": "H2Pl5zG9BUnm",
        "outputId": "007be7aa-04c7-4546-8e4a-300492355f6d"
      },
      "outputs": [
        {
          "name": "stdout",
          "output_type": "stream",
          "text": [
            "     Age  RestingBP  Cholesterol  FastingBS  MaxHR  Oldpeak  HeartDisease  \\\n",
            "0     40        140          289          0    172      0.0             0   \n",
            "1     49        160          180          0    156      1.0             1   \n",
            "2     37        130          283          0     98      0.0             0   \n",
            "3     48        138          214          0    108      1.5             1   \n",
            "4     54        150          195          0    122      0.0             0   \n",
            "..   ...        ...          ...        ...    ...      ...           ...   \n",
            "741   45        110          264          0    132      1.2             1   \n",
            "742   68        144          193          1    141      3.4             1   \n",
            "743   57        130          131          0    115      1.2             1   \n",
            "744   57        130          236          0    174      0.0             1   \n",
            "745   38        138          175          0    173      0.0             0   \n",
            "\n",
            "     Sex_cat  ChestPainType_cat  RestingECG_cat  ExerciseAngina_cat  \\\n",
            "0          1                  1               1                   0   \n",
            "1          0                  2               1                   0   \n",
            "2          1                  1               2                   0   \n",
            "3          0                  0               1                   1   \n",
            "4          1                  2               1                   0   \n",
            "..       ...                ...             ...                 ...   \n",
            "741        1                  3               1                   0   \n",
            "742        1                  0               1                   0   \n",
            "743        1                  0               1                   1   \n",
            "744        0                  1               0                   0   \n",
            "745        1                  2               1                   0   \n",
            "\n",
            "     ST_Slope_cat  \n",
            "0               2  \n",
            "1               1  \n",
            "2               2  \n",
            "3               1  \n",
            "4               2  \n",
            "..            ...  \n",
            "741             1  \n",
            "742             1  \n",
            "743             1  \n",
            "744             1  \n",
            "745             2  \n",
            "\n",
            "[746 rows x 12 columns]\n"
          ]
        }
      ],
      "source": [
        "#Tālākajam darbam tiek atmesti kategorijas tipa atribūti\n",
        "samazinata_datu_kopa = datu_kopa[[\"Age\",\"RestingBP\",\"Cholesterol\",\"FastingBS\",\"MaxHR\",\"Oldpeak\",\"HeartDisease\",\"Sex_cat\",\"ChestPainType_cat\",\"RestingECG_cat\",\"ExerciseAngina_cat\",\"ST_Slope_cat\"]]\n",
        "#Tiek izvadīti dati par datu kopu\n",
        "# print(samazinata_datu_kopa.describe())\n",
        "# print(samazinata_datu_kopa.info())\n",
        "print(samazinata_datu_kopa)"
      ]
    },
    {
      "cell_type": "markdown",
      "metadata": {
        "id": "u7pgD7GNr3Sk"
      },
      "source": [
        "### Datu normalizācija"
      ]
    },
    {
      "cell_type": "code",
      "execution_count": 7,
      "metadata": {
        "colab": {
          "base_uri": "https://localhost:8080/"
        },
        "id": "0rQakCOXGhSg",
        "outputId": "2867a028-3034-472c-e358-722cd88a7a42"
      },
      "outputs": [
        {
          "name": "stdout",
          "output_type": "stream",
          "text": [
            "   Age Sex ChestPainType  RestingBP  Cholesterol  FastingBS RestingECG  MaxHR  \\\n",
            "0   40   M           ATA        140          289          0     Normal    172   \n",
            "1   49   F           NAP        160          180          0     Normal    156   \n",
            "2   37   M           ATA        130          283          0         ST     98   \n",
            "3   48   F           ASY        138          214          0     Normal    108   \n",
            "4   54   M           NAP        150          195          0     Normal    122   \n",
            "5   39   M           NAP        120          339          0     Normal    170   \n",
            "6   45   F           ATA        130          237          0     Normal    170   \n",
            "7   54   M           ATA        110          208          0     Normal    142   \n",
            "8   37   M           ASY        140          207          0     Normal    130   \n",
            "9   48   F           ATA        120          284          0     Normal    120   \n",
            "\n",
            "  ExerciseAngina  Oldpeak ST_Slope  HeartDisease  Sex_cat  ChestPainType_cat  \\\n",
            "0              N      0.0       Up             0        1                  1   \n",
            "1              N      1.0     Flat             1        0                  2   \n",
            "2              N      0.0       Up             0        1                  1   \n",
            "3              Y      1.5     Flat             1        0                  0   \n",
            "4              N      0.0       Up             0        1                  2   \n",
            "5              N      0.0       Up             0        1                  2   \n",
            "6              N      0.0       Up             0        0                  1   \n",
            "7              N      0.0       Up             0        1                  1   \n",
            "8              Y      1.5     Flat             1        1                  0   \n",
            "9              N      0.0       Up             0        0                  1   \n",
            "\n",
            "   RestingECG_cat  ExerciseAngina_cat  ST_Slope_cat  \n",
            "0               1                   0             2  \n",
            "1               1                   0             1  \n",
            "2               2                   0             2  \n",
            "3               1                   1             1  \n",
            "4               1                   0             2  \n",
            "5               1                   0             2  \n",
            "6               1                   0             2  \n",
            "7               1                   0             2  \n",
            "8               1                   1             1  \n",
            "9               1                   0             2  \n",
            "              Age   RestingBP  Cholesterol   FastingBS       MaxHR  \\\n",
            "count  746.000000  746.000000   746.000000  746.000000  746.000000   \n",
            "mean    52.882038  133.022788   244.635389    0.167560  140.226542   \n",
            "std      9.505888   17.282750    59.153524    0.373726   24.524107   \n",
            "min     28.000000   92.000000    85.000000    0.000000   69.000000   \n",
            "25%     46.000000  120.000000   207.250000    0.000000  122.000000   \n",
            "50%     54.000000  130.000000   237.000000    0.000000  140.000000   \n",
            "75%     59.000000  140.000000   275.000000    0.000000  160.000000   \n",
            "max     77.000000  200.000000   603.000000    1.000000  202.000000   \n",
            "\n",
            "          Oldpeak  HeartDisease     Sex_cat  ChestPainType_cat  \\\n",
            "count  746.000000    746.000000  746.000000         746.000000   \n",
            "mean     0.901609      0.477212    0.756032           0.840483   \n",
            "std      1.072861      0.499816    0.429762           0.958198   \n",
            "min     -0.100000      0.000000    0.000000           0.000000   \n",
            "25%      0.000000      0.000000    1.000000           0.000000   \n",
            "50%      0.500000      0.000000    1.000000           1.000000   \n",
            "75%      1.500000      1.000000    1.000000           2.000000   \n",
            "max      6.200000      1.000000    1.000000           3.000000   \n",
            "\n",
            "       RestingECG_cat  ExerciseAngina_cat  ST_Slope_cat  \n",
            "count      746.000000          746.000000    746.000000  \n",
            "mean         0.931635            0.384718      1.410188  \n",
            "std          0.631939            0.486855      0.598076  \n",
            "min          0.000000            0.000000      0.000000  \n",
            "25%          1.000000            0.000000      1.000000  \n",
            "50%          1.000000            0.000000      1.000000  \n",
            "75%          1.000000            1.000000      2.000000  \n",
            "max          2.000000            1.000000      2.000000  \n"
          ]
        }
      ],
      "source": [
        "#Četriem atribūtiem tiek veikta datu normalizācija, lai dati būtu uzskatāmaki \"Age\",\"RestingBP\",\"Cholesterol\",\"FastingBS\",\"MaxHR\",\"Oldpeak\",\"HeartDisease\"\n",
        "darba_datu_kopa=samazinata_datu_kopa.copy()\n",
        "darba_datu_kopa['Age']=(darba_datu_kopa['Age']-darba_datu_kopa['Age'].min())/(darba_datu_kopa['Age'].max()-darba_datu_kopa['Age'].min())\n",
        "darba_datu_kopa['RestingBP']=(darba_datu_kopa['RestingBP']-darba_datu_kopa['RestingBP'].min())/(darba_datu_kopa['RestingBP'].max()-darba_datu_kopa['RestingBP'].min())\n",
        "darba_datu_kopa['Cholesterol']=(darba_datu_kopa['Cholesterol']-darba_datu_kopa['Cholesterol'].min())/(darba_datu_kopa['Cholesterol'].max()-darba_datu_kopa['Cholesterol'].min())\n",
        "darba_datu_kopa['FastingBS']=(darba_datu_kopa['FastingBS']-darba_datu_kopa['FastingBS'].min())/(darba_datu_kopa['FastingBS'].max()-darba_datu_kopa['FastingBS'].min())\n",
        "darba_datu_kopa['MaxHR']=(darba_datu_kopa['MaxHR']-darba_datu_kopa['MaxHR'].min())/(darba_datu_kopa['MaxHR'].max()-darba_datu_kopa['MaxHR'].min())\n",
        "darba_datu_kopa['Oldpeak']=(darba_datu_kopa['Oldpeak']-darba_datu_kopa['Oldpeak'].min())/(darba_datu_kopa['Oldpeak'].max()-darba_datu_kopa['Oldpeak'].min())\n",
        "darba_datu_kopa['HeartDisease']=(darba_datu_kopa['HeartDisease']-darba_datu_kopa['HeartDisease'].min())/(darba_datu_kopa['HeartDisease'].max()-darba_datu_kopa['HeartDisease'].min())\n",
        "print(datu_kopa.head(10))\n",
        "print(datu_kopa.describe())"
      ]
    },
    {
      "cell_type": "markdown",
      "metadata": {
        "id": "yDCbYpXElxJE"
      },
      "source": [
        "Datu un faktoru vērtību vizualizācija\n",
        "---"
      ]
    },
    {
      "cell_type": "markdown",
      "metadata": {
        "id": "jMW7FTNDoSu_"
      },
      "source": [
        "### Vērtību attēlojums"
      ]
    },
    {
      "cell_type": "code",
      "execution_count": 8,
      "metadata": {
        "colab": {
          "base_uri": "https://localhost:8080/",
          "height": 600
        },
        "id": "6b4Al_F3lBN6",
        "outputId": "b44dc1ac-f0dc-4421-a101-8c94b101fbec"
      },
      "outputs": [
        {
          "data": {
            "text/plain": [
              "<Axes: xlabel='RestingBP', ylabel='MaxHR'>"
            ]
          },
          "execution_count": 8,
          "metadata": {},
          "output_type": "execute_result"
        },
        {
          "data": {
            "image/png": "[encoded data removed]",
            "text/plain": [
              "<Figure size 2000x1000 with 1 Axes>"
            ]
          },
          "metadata": {},
          "output_type": "display_data"
        }
      ],
      "source": [
        "#Vērtību vizualizācijai tiek atlasīti tikai atribūti ar skaitliskām vērtībām nepārtrauktajā skalā\n",
        "# darba_datu_kopa_vizualizacijai = datu_kopa[[\"Age\",\"RestingBP\",\"Cholesterol\",\"FastingBS\",\"MaxHR\",\"Oldpeak\",\"HeartDisease\"]]\n",
        "darba_datu_kopa_vizualizacijai = datu_kopa[[\"MaxHR\", \"RestingBP\"]]\n",
        "darba_datu_kopa_vizualizacijai.sort_values(by='RestingBP').plot(figsize=(20,10), y='MaxHR', x='RestingBP', kind='scatter')\n",
        "#Vērtību attēlojuma izvade\n",
        "# darba_datu_kopa_vizualizacijai.plot(figsize=(20,10), x='RestingBP', y='Age')\n",
        "# darba_datu_kopa_vizualizacijai.plot(x='Age', y='Cholesterol', kind='line', color=\"purple\")"
      ]
    },
    {
      "cell_type": "markdown",
      "metadata": {
        "id": "IM1f4XeVm3EE"
      },
      "source": [
        "Vērtību attēlojums ļauj veikt šādus secinājumus:\n",
        "- kad kulmena dziļums ir lielāks par 0.4, tad kulmena garums, pleznas garums un ķermeņa masa samazinās (vērtības ir <0.4)\n",
        "- kad kulmena dziļums ir ap 0.5, tad arī kulmena garums, pleznas garums un ķermeņa masa ir ap to pašu vērtību (viss saplūst kopā)\n",
        "- kad kulmena dziļums ir mazāks par 0.4, tad kulmena garums, pleznas garums un ķermeņa masa pieaug (vērtības ir >0.4)\n",
        "- vispārīgi kulmena garums, pleznas garums un ķermeņa masa mainās kopā un, iespējams, tieši šie atribūti ļaus vislabāk atdalīt klases tālākajā klasifikācijas uzdevumā"
      ]
    },
    {
      "cell_type": "markdown",
      "metadata": {
        "id": "5VeYEROvoBth"
      },
      "source": [
        "### Histogrammu analīze"
      ]
    },
    {
      "cell_type": "code",
      "execution_count": null,
      "metadata": {
        "colab": {
          "base_uri": "https://localhost:8080/",
          "height": 821
        },
        "id": "1-N33xRhoBUV",
        "outputId": "8346eaef-30a3-4077-a020-2165ed1549a2"
      },
      "outputs": [],
      "source": [
        "#Datu kopas atribūtu histogrammu izvade\n",
        "print(datu_kopa)\n",
        "datu_kopa.hist(figsize=(14,12))"
      ]
    },
    {
      "cell_type": "markdown",
      "metadata": {
        "id": "THSM88Qvqf3d"
      },
      "source": [
        "Histogrammās redzam, ka viena no pingvīnu sugām ir mazāk pārstāvēta. Tas nozīmē, ka datu kopā pieejamās klases nav sabalansētas. Tas pats ir novērojams saistībā ar salām, no kurām pingvīni nāk: viena no tām ir mazāk pārstāvēta.\n",
        "Pie tam datu kopā ir vairāk pingvīnu ar mazāku ķermeņa masu un vairāk pingvīnu ar garāko kulmenu un vairāk pingvīnu ar mazāko pleznas garumu."
      ]
    },
    {
      "cell_type": "markdown",
      "metadata": {
        "id": "J7u0NGX8o3_q"
      },
      "source": [
        "### Izkliedes diagrammu analīze (Atribūtu savstarpējie sadalījumi)\n"
      ]
    },
    {
      "cell_type": "markdown",
      "metadata": {
        "id": "Wv6NegEAKBiW"
      },
      "source": [
        "### Atribūtu savstarpējā korelācija"
      ]
    },
    {
      "cell_type": "code",
      "execution_count": null,
      "metadata": {
        "colab": {
          "base_uri": "https://localhost:8080/",
          "height": 853
        },
        "id": "1bmQroRMKAbf",
        "outputId": "244bb5eb-a19e-4523-dd50-2e85aa571a45"
      },
      "outputs": [],
      "source": [
        "#Tiek izveidota korelācijas matrica, tajā atspoguļojot korelācijas koeficientu skaitliskiem atribūtiem\n",
        "korelacijas_matrica=darba_datu_kopa_vizualizacijai.corr(method='pearson')\n",
        "plt.figure(figsize=(20,10))\n",
        "sns.heatmap(korelacijas_matrica,vmax=1,square=True,annot=True,cmap='cubehelix')"
      ]
    },
    {
      "cell_type": "markdown",
      "metadata": {
        "id": "KtQSjfJ825HF"
      },
      "source": [
        "Korelācijas matricas analīze ļauj secināt, ka:\n",
        "* starp atribūtiem “culmen_length_mm” un “culmen_depth_mm” ir vāja negatīva korelācija\n",
        "* atribūtam “culmen_length_mm” ir vidējā pozitīvā korelācija ar atribūtiem “flipper_length_mm” un “body_mass_g”\n",
        "* atribūtam “culmen_depth_mm” ir vidējā negatīvā korelācija ar atribūtiem “flipper_length_mm” un “body_mass_g”\n",
        "* starp atribūtiem “flipper_length_mm” un “body_mass_g” ir augsta pozitīva korelācija\n",
        "\n",
        "Tādējādi saistībā ar pēdējiem diviem atribūtiem var paredzēt multikolinearitātes problēmu, kas var apgrūtināt atsevišķu mašīnmācīšanās rezultātu interpretāciju, līdz ar to tālākajā analīzē nebūtu vēlams abus šos atribūtus iekļaut."
      ]
    },
    {
      "cell_type": "markdown",
      "metadata": {
        "id": "TFMdGuLPSwAY"
      },
      "source": [
        "K-vidējo algoritms\n",
        "---\n"
      ]
    },
    {
      "cell_type": "markdown",
      "metadata": {},
      "source": [
        "## K-vidējo algoritms: Silueta koeficienta aprēķins un analīze"
      ]
    },
    {
      "cell_type": "code",
      "execution_count": null,
      "metadata": {
        "colab": {
          "base_uri": "https://localhost:8080/",
          "height": 552
        },
        "id": "ucnk0MnwSytW",
        "outputId": "be647856-2594-411a-a15d-89a15045e6b3"
      },
      "outputs": [],
      "source": [
        "# Nepieciešamo bibliotēku ielāde\n",
        "import pandas as pd\n",
        "import matplotlib.pyplot as plt\n",
        "from sklearn.cluster import KMeans\n",
        "from sklearn import metrics\n",
        "\n",
        "# Datu ielāde\n",
        "darba_datu_kopa = pd.read_csv('../dataset/filtered_heart.csv')  # Vai pielāgo ceļu atbilstoši savam failu izvietojumam\n",
        "\n",
        "# Apskati kolonnu nosaukumus, lai zinātu, ko vari izmantot\n",
        "print(darba_datu_kopa.columns)\n",
        "\n",
        "# Izvēlies piemērotas 3 pazīmes (pielāgo pēc vajadzības)\n",
        "darba_datu_kopa_klasterizacijai_3_pazimes = darba_datu_kopa[['Age', 'Cholesterol', 'MaxHR']]\n",
        "\n",
        "# Silueta koeficientu saraksts\n",
        "Silueta_koeficienti = []\n",
        "\n",
        "# Pārbauda 5 dažādas k vērtības (2 līdz 6)\n",
        "for i in range(2, 7):\n",
        "    kmeans_modelis = KMeans(n_clusters=i, init=\"k-means++\", random_state=42)\n",
        "    kmeans_modelis.fit(darba_datu_kopa_klasterizacijai_3_pazimes)\n",
        "    score = metrics.silhouette_score(darba_datu_kopa_klasterizacijai_3_pazimes, kmeans_modelis.labels_)\n",
        "    Silueta_koeficienti.append(score)\n",
        "\n",
        "# Silueta koeficientu grafiks\n",
        "plt.figure(figsize=(6, 4))\n",
        "plt.plot(range(2, 7), Silueta_koeficienti, marker='o')\n",
        "plt.xlabel('Klasteru skaits (K)')\n",
        "plt.ylabel('Silueta koeficients')\n",
        "plt.title('Silueta koeficienti dažādiem K')\n",
        "plt.grid(True)\n",
        "plt.show()\n",
        "\n",
        "# Izdrukā rezultātus tabulā\n",
        "print(\"Silueta koeficienti:\")\n",
        "for i, s in enumerate(Silueta_koeficienti, start=2):\n",
        "    print(f\"K = {i}: Silueta koeficients = {s:.4f}\")\n",
        "\n",
        "# Atrod optimālo K\n",
        "labakais_k = range(2, 7)[Silueta_koeficienti.index(max(Silueta_koeficienti))]\n",
        "print(f\"\\n🔍 Optimālais klasteru skaits pēc Silueta koeficienta: K = {labakais_k}\")\n"
      ]
    },
    {
      "cell_type": "markdown",
      "metadata": {},
      "source": [
        "\n",
        "\n",
        "Šajā eksperimentā tika pielietots K-vidējo algoritms (K-means), lai novērtētu datu kopas iekšējo struktūru, izmantojot trīs atribūtus: `Age`, `Cholesterol` un `MaxHR`. Algoritmam tika piemērotas piecas dažādas klasteru skaita (`k`) vērtības no 2 līdz 6. Katram `k` tika aprēķināts Silueta koeficients, kas norāda, cik labi katrs datu punkts atbilst savam klasterim salīdzinājumā ar citiem klasteriem.\n",
        "\n",
        "Rezultāti tika attēloti grafikā, kur redzama Silueta koeficienta izmaiņa atkarībā no `k`. Pēc aprēķiniem noteikts, ka visaugstākais Silueta koeficients tika iegūts pie `k = X`, kas tiek uzskatīts par optimālo klasteru skaitu šai datu kopai. (❗Lūdzu, aizvieto **X** ar reālo vērtību no izdrukas.)\n",
        "\n",
        "Šī pieeja ļauj novērtēt datu sadalījumu un potenciāli identificēt dabiskās grupas bez iepriekšējām zināšanām par klasēm.\n"
      ]
    },
    {
      "cell_type": "markdown",
      "metadata": {},
      "source": [
        "## K-vidējo algoritma vizualizācija ar k = 2"
      ]
    },
    {
      "cell_type": "code",
      "execution_count": null,
      "metadata": {
        "colab": {
          "base_uri": "https://localhost:8080/",
          "height": 485
        },
        "id": "Y8NojgJUS1j_",
        "outputId": "9897abd7-2c5f-4f3b-d31b-0c1507f1ca62"
      },
      "outputs": [],
      "source": [
        "import matplotlib.pyplot as plt\n",
        "from sklearn.cluster import KMeans\n",
        "\n",
        "# Pieņemam, ka dati jau atlasīti iepriekš\n",
        "# dati_klasterizacijai = darba_datu_kopa[['Age', 'Cholesterol', 'MaxHR']]\n",
        "\n",
        "# Apmācām KMeans ar 2 klasteriem\n",
        "dati_klasterizacijai = darba_datu_kopa[['Age', 'Cholesterol', 'MaxHR']]\n",
        "\n",
        "kmeans_modelis = KMeans(n_clusters=2, init=\"k-means++\", random_state=42).fit(dati_klasterizacijai)\n",
        "centroids = kmeans_modelis.cluster_centers_\n",
        "ypred = kmeans_modelis.predict(dati_klasterizacijai)\n",
        "\n",
        "# Zīmējam izkliedes diagrammas\n",
        "plt.figure(figsize=(12, 10))\n",
        "\n",
        "plt.subplot(2, 2, 1)\n",
        "plt.title(\"Age vs Cholesterol\")\n",
        "plt.scatter(dati_klasterizacijai['Age'], dati_klasterizacijai['Cholesterol'], c=ypred, s=10)\n",
        "plt.xlabel(\"Age\")\n",
        "plt.ylabel(\"Cholesterol\")\n",
        "\n",
        "plt.subplot(2, 2, 2)\n",
        "plt.title(\"Age vs MaxHR\")\n",
        "plt.scatter(dati_klasterizacijai['Age'], dati_klasterizacijai['MaxHR'], c=ypred, s=10)\n",
        "plt.xlabel(\"Age\")\n",
        "plt.ylabel(\"MaxHR\")\n",
        "\n",
        "plt.subplot(2, 2, 3)\n",
        "plt.title(\"Cholesterol vs MaxHR\")\n",
        "plt.scatter(dati_klasterizacijai['Cholesterol'], dati_klasterizacijai['MaxHR'], c=ypred, s=10)\n",
        "plt.xlabel(\"Cholesterol\")\n",
        "plt.ylabel(\"MaxHR\")\n",
        "\n",
        "plt.tight_layout()\n",
        "plt.show()\n"
      ]
    },
    {
      "cell_type": "markdown",
      "metadata": {},
      "source": [
        "Lai labāk izprastu datu struktūru un to sadalījumu klasteros, tika veikta datu vizualizācija, izmantojot K-means algoritmu ar klasteru skaitu `k = 2`. Tika izveidotas trīs izkliedes diagrammas, attēlojot dažādus atribūtu pārus: `Age vs Cholesterol`, `Age vs MaxHR`, un `Cholesterol vs MaxHR`.\n",
        "\n",
        "Katrā diagrammā datu punkti ir iekrāsoti atbilstoši tam, kuram klasterim tie piešķirti. Vizualizācijas mērķis ir novērtēt klasteru robežas un to sadalījuma skaidrību. Rezultātos redzams, ka klasteri daļēji pārklājas, tomēr dažās dimensijās iezīmējas atšķirīgas grupas, kas var norādīt uz iespējamu sadalījumu pēc vecuma, holesterīna līmeņa vai maksimālā pulsa.\n",
        "\n",
        "Šāda vizualizācija palīdz kvalitatīvi novērtēt K-means algoritma rezultātus un to atbilstību datu kopas iekšējai struktūrai.\n"
      ]
    },
    {
      "cell_type": "markdown",
      "metadata": {
        "id": "EYP9MLdGVLzP"
      },
      "source": [
        "Hierarhiskā aglomeratīvā klasterēšana\n",
        "---"
      ]
    },
    {
      "cell_type": "markdown",
      "metadata": {},
      "source": [
        "## Hierarhiskās klasterizācijas modeļa izveide"
      ]
    },
    {
      "cell_type": "code",
      "execution_count": null,
      "metadata": {
        "id": "vCIopfI-VLhp"
      },
      "outputs": [],
      "source": [
        "#algoritma izmantošanai nepieciešamās bibliotēkas ielāde\n",
        "from sklearn.cluster import AgglomerativeClustering\n",
        "#algoritma modeļa izveide, par pamatu izmantojot datu apakškopu ar 3 atribūtiem\n",
        "clustering = AgglomerativeClustering().fit(darba_datu_kopa_klasterizacijai_3_pazimes)"
      ]
    },
    {
      "cell_type": "markdown",
      "metadata": {},
      "source": [
        "\n",
        "\n",
        "Šajā posmā tika izveidots hierarhiskās aglomeratīvās klasterizācijas modelis, izmantojot trīs atribūtus: `Age`, `Cholesterol` un `MaxHR`. Tika pielietota `AgglomerativeClustering` klase no `sklearn` bibliotēkas ar noklusējuma parametriem (`n_clusters=2`, `linkage='ward'`), kas ļauj pakāpeniski apvienot līdzīgākos datu punktus vienā klasterī.\n",
        "\n",
        "Lai gan šī koda izpilde ļauj iegūt klasteru iedalījumu, tā nenodrošina vizualizāciju vai rezultātu interpretāciju. Tāpēc nākamajā solī tiks izveidota dendrogramma, kas palīdzēs labāk izprast klasteru veidošanās procesu un noteikt iespējamo klasteru skaitu.\n"
      ]
    },
    {
      "cell_type": "markdown",
      "metadata": {},
      "source": [
        "## Dendrogrammas izveide un analīze"
      ]
    },
    {
      "cell_type": "code",
      "execution_count": null,
      "metadata": {
        "colab": {
          "base_uri": "https://localhost:8080/",
          "height": 189
        },
        "id": "1pJU-YlgVPgZ",
        "outputId": "704d0468-08cf-468a-e979-89ab8fc8136d"
      },
      "outputs": [],
      "source": [
        "#dendrogrammas atspoguļošanai nepieciešamās bibliotēkas ielāde\n",
        "import scipy.cluster.hierarchy as shc\n",
        "#dendrogrammas izvade, par pamatu izmantojot saistīšanas metodi \"ward\"\n",
        "plt.figure(figsize =(16, 6))\n",
        "plt.title('Aglomeratīvās klasterēšanas dendrogramma')\n",
        "Dendrogram = shc.dendrogram((shc.linkage(darba_datu_kopa_klasterizacijai_3_pazimes, method ='ward')))"
      ]
    },
    {
      "cell_type": "markdown",
      "metadata": {},
      "source": [
        "\n",
        "\n",
        "Lai vizualizētu datu apvienošanās procesu hierarhiskajā klasterizācijā, tika izveidota dendrogramma, izmantojot `scipy.cluster.hierarchy.dendrogram` funkciju. Kā saistīšanas metode tika izmantota `ward`, kas apvieno klasterus, minimizējot kopējo kvadrātattālumu starp tiem.\n",
        "\n",
        "Dendrogramma ļauj noteikt iespējamo klasteru skaitu, ievērojot, cik lielas vertikālās distances veidojas starp apvienojumiem. Piemēram, novilkt horizontālu griešanas līniju konkrētā augstumā ļauj sadalīt datu kopu noteiktā klasteru skaitā. Šajā gadījumā, vizuāli analizējot dendrogrammu, tiek ieteikts tālāk veikt eksperimentus ar 2, 3 un 4 klasteriem.\n"
      ]
    },
    {
      "cell_type": "markdown",
      "metadata": {},
      "source": [
        "## Klasteru eksperimenti ar dažādiem n vērtībām"
      ]
    },
    {
      "cell_type": "code",
      "execution_count": null,
      "metadata": {},
      "outputs": [],
      "source": [
        "from sklearn.cluster import AgglomerativeClustering\n",
        "import pandas as pd\n",
        "\n",
        "# Eksperimenti ar dažādiem klasteru skaitiem\n",
        "for n in [2, 3, 4]:\n",
        "    modelis = AgglomerativeClustering(n_clusters=n, linkage='ward')\n",
        "    etiketes = modelis.fit_predict(darba_datu_kopa_klasterizacijai_3_pazimes)\n",
        "    print(f\"\\n🔹 Klasteru skaits: {n}\")\n",
        "    print(pd.Series(etiketes).value_counts())\n"
      ]
    },
    {
      "cell_type": "markdown",
      "metadata": {},
      "source": [
        "\n",
        "\n",
        "Lai novērtētu, kā mainās datu sadalījums dažādos klasteru līmeņos, tika veikti trīs eksperimenti, mainot `n_clusters` vērtību uz 2, 3 un 4. Visos gadījumos tika izmantota `ward` saistīšanas metode. Katram eksperimentam tika aprēķināts, cik objektu ir piešķirti katram klasterim.\n",
        "\n",
        "Šī pieeja ļauj izvērtēt klasterizācijas jēgpilnumu — ja viens no klasteriem satur ievērojami vairāk objektu nekā pārējie, tas var norādīt uz nevienmērīgu datu sadalījumu. Savukārt līdzsvaroti klasteri pie noteikta `n` var liecināt par labu datu struktūras atbilstību šādam sadalījumam.\n",
        "\n",
        "Rezultātu interpretācija tika izmantota, lai izvēlētos piemērotākos klasteru variantus tālākai vizualizācijai.\n"
      ]
    },
    {
      "cell_type": "markdown",
      "metadata": {},
      "source": [
        "## Klasterizācijas vizualizācija (Hierarhiskā metode, n = 2)"
      ]
    },
    {
      "cell_type": "code",
      "execution_count": null,
      "metadata": {},
      "outputs": [],
      "source": [
        "import matplotlib.pyplot as plt\n",
        "\n",
        "# Modeļa apmācība ar 2 klasteriem\n",
        "modelis = AgglomerativeClustering(n_clusters=2, linkage='ward')\n",
        "ypred = modelis.fit_predict(darba_datu_kopa_klasterizacijai_3_pazimes)\n",
        "\n",
        "# Izkliedes diagrammas\n",
        "plt.figure(figsize=(12, 10))\n",
        "\n",
        "plt.subplot(2, 2, 1)\n",
        "plt.title(\"Age vs Cholesterol\")\n",
        "plt.scatter(darba_datu_kopa_klasterizacijai_3_pazimes['Age'], darba_datu_kopa_klasterizacijai_3_pazimes['Cholesterol'], c=ypred, s=10)\n",
        "plt.xlabel(\"Age\")\n",
        "plt.ylabel(\"Cholesterol\")\n",
        "\n",
        "plt.subplot(2, 2, 2)\n",
        "plt.title(\"Age vs MaxHR\")\n",
        "plt.scatter(darba_datu_kopa_klasterizacijai_3_pazimes['Age'], darba_datu_kopa_klasterizacijai_3_pazimes['MaxHR'], c=ypred, s=10)\n",
        "plt.xlabel(\"Age\")\n",
        "plt.ylabel(\"MaxHR\")\n",
        "\n",
        "plt.subplot(2, 2, 3)\n",
        "plt.title(\"Cholesterol vs MaxHR\")\n",
        "plt.scatter(darba_datu_kopa_klasterizacijai_3_pazimes['Cholesterol'], darba_datu_kopa_klasterizacijai_3_pazimes['MaxHR'], c=ypred, s=10)\n",
        "plt.xlabel(\"Cholesterol\")\n",
        "plt.ylabel(\"MaxHR\")\n",
        "\n",
        "plt.tight_layout()\n",
        "plt.show()\n"
      ]
    },
    {
      "cell_type": "markdown",
      "metadata": {},
      "source": [
        "\n",
        "\n",
        "Lai ilustrētu datu sadalījumu, tika attēlotas izkliedes diagrammas trīs plaknēs: `Age vs Cholesterol`, `Age vs MaxHR` un `Cholesterol vs MaxHR`. Katrs datu punkts ir iekrāsots atbilstoši klasterim, kurā tas nokļuvis, izmantojot hierarhiskās aglomeratīvās klasterizācijas algoritmu ar `n = 2` un `ward` saistīšanas metodi.\n",
        "\n",
        "Diagrammas palīdz vizuāli novērtēt, cik labi dati grupējas. Šajā gadījumā novērojams, ka divas galvenās grupas izceļas dažās pazīmju kombinācijās, bet citās tās ir pārklājušās. Tas norāda, ka dati nav pilnībā nošķirti, tomēr daļēji strukturēti.\n"
      ]
    },
    {
      "cell_type": "markdown",
      "metadata": {},
      "source": [
        "## Hierarhiskās klasterizācijas rezultātu vizualizācija"
      ]
    },
    {
      "cell_type": "code",
      "execution_count": null,
      "metadata": {},
      "outputs": [],
      "source": [
        "import matplotlib.pyplot as plt\n",
        "from sklearn.cluster import AgglomerativeClustering\n",
        "\n",
        "# Saraksts ar klasteru skaitu, ko testēsim\n",
        "klasteru_skaits = [2, 3, 4]\n",
        "\n",
        "# Izveido grafiku (3 rindas x 3 kolonnas: katrs klasteru skaits savās 3 plaknēs)\n",
        "plt.figure(figsize=(15, 12))\n",
        "\n",
        "# Aizpilda attēlus katram n_clusters\n",
        "plot_index = 1\n",
        "for n in klasteru_skaits:\n",
        "    modelis = AgglomerativeClustering(n_clusters=n, linkage='ward')\n",
        "    ypred = modelis.fit_predict(darba_datu_kopa_klasterizacijai_3_pazimes)\n",
        "\n",
        "    # Age vs Cholesterol\n",
        "    plt.subplot(len(klasteru_skaits), 3, plot_index)\n",
        "    plt.title(f\"{n} klasteri: Age vs Cholesterol\")\n",
        "    plt.scatter(darba_datu_kopa_klasterizacijai_3_pazimes['Age'],\n",
        "                darba_datu_kopa_klasterizacijai_3_pazimes['Cholesterol'],\n",
        "                c=ypred, s=10)\n",
        "    plt.xlabel(\"Age\")\n",
        "    plt.ylabel(\"Cholesterol\")\n",
        "    plot_index += 1\n",
        "\n",
        "    # Age vs MaxHR\n",
        "    plt.subplot(len(klasteru_skaits), 3, plot_index)\n",
        "    plt.title(f\"{n} klasteri: Age vs MaxHR\")\n",
        "    plt.scatter(darba_datu_kopa_klasterizacijai_3_pazimes['Age'],\n",
        "                darba_datu_kopa_klasterizacijai_3_pazimes['MaxHR'],\n",
        "                c=ypred, s=10)\n",
        "    plt.xlabel(\"Age\")\n",
        "    plt.ylabel(\"MaxHR\")\n",
        "    plot_index += 1\n",
        "\n",
        "    # Cholesterol vs MaxHR\n",
        "    plt.subplot(len(klasteru_skaits), 3, plot_index)\n",
        "    plt.title(f\"{n} klasteri: Cholesterol vs MaxHR\")\n",
        "    plt.scatter(darba_datu_kopa_klasterizacijai_3_pazimes['Cholesterol'],\n",
        "                darba_datu_kopa_klasterizacijai_3_pazimes['MaxHR'],\n",
        "                c=ypred, s=10)\n",
        "    plt.xlabel(\"Cholesterol\")\n",
        "    plt.ylabel(\"MaxHR\")\n",
        "    plot_index += 1\n",
        "\n",
        "plt.tight_layout()\n",
        "plt.show()\n"
      ]
    },
    {
      "cell_type": "markdown",
      "metadata": {},
      "source": [
        "Lai labāk izprastu hierarhiskās klasterizācijas rezultātus un novērtētu klasteru veidošanās loģiku, tika izveidotas izkliedes diagrammas visiem trim eksperimentiem (`n = 2`, `3`, `4`). Katrai `n` vērtībai dati tika attēloti trīs plaknēs: `Age vs Cholesterol`, `Age vs MaxHR`, un `Cholesterol vs MaxHR`.\n",
        "\n",
        "Diagrammās katrs punkts ir iekrāsots atbilstoši tam, kuram klasterim tas piešķirts attiecīgajā klasterizācijas eksperimentā. Šāda vizualizācija palīdz novērtēt, cik skaidri klasteri nošķiras viens no otra un vai to robežas ir loģiski pamatotas.\n",
        "\n",
        "Novērojams, ka, palielinot klasteru skaitu, klasteru robežas kļūst detalizētākas, tomēr arī daļēji pārklājas. Tas var norādīt uz datu struktūras sarežģītību un ierobežotu dabisko grupēšanos tikai pēc trīs pazīmēm.\n"
      ]
    },
    {
      "cell_type": "markdown",
      "metadata": {
        "id": "7xKXf16cWW0g"
      },
      "source": [
        "Mākslīgo neironu tīkli\n",
        "---"
      ]
    },
    {
      "cell_type": "code",
      "execution_count": 10,
      "metadata": {},
      "outputs": [
        {
          "name": "stdout",
          "output_type": "stream",
          "text": [
            "          Age  RestingBP  Cholesterol  FastingBS     MaxHR   Oldpeak  \\\n",
            "0    0.244898   0.444444     0.393822        0.0  0.774436  0.015873   \n",
            "1    0.428571   0.629630     0.183398        0.0  0.654135  0.174603   \n",
            "2    0.183673   0.351852     0.382239        0.0  0.218045  0.015873   \n",
            "3    0.408163   0.425926     0.249035        0.0  0.293233  0.253968   \n",
            "4    0.530612   0.537037     0.212355        0.0  0.398496  0.015873   \n",
            "..        ...        ...          ...        ...       ...       ...   \n",
            "741  0.346939   0.166667     0.345560        0.0  0.473684  0.206349   \n",
            "742  0.816327   0.481481     0.208494        1.0  0.541353  0.555556   \n",
            "743  0.591837   0.351852     0.088803        0.0  0.345865  0.206349   \n",
            "744  0.591837   0.351852     0.291506        0.0  0.789474  0.015873   \n",
            "745  0.204082   0.425926     0.173745        0.0  0.781955  0.015873   \n",
            "\n",
            "     HeartDisease  Sex_cat  ChestPainType_cat  RestingECG_cat  \\\n",
            "0             0.0        1                  1               1   \n",
            "1             1.0        0                  2               1   \n",
            "2             0.0        1                  1               2   \n",
            "3             1.0        0                  0               1   \n",
            "4             0.0        1                  2               1   \n",
            "..            ...      ...                ...             ...   \n",
            "741           1.0        1                  3               1   \n",
            "742           1.0        1                  0               1   \n",
            "743           1.0        1                  0               1   \n",
            "744           1.0        0                  1               0   \n",
            "745           0.0        1                  2               1   \n",
            "\n",
            "     ExerciseAngina_cat  ST_Slope_cat  \n",
            "0                     0             2  \n",
            "1                     0             1  \n",
            "2                     0             2  \n",
            "3                     1             1  \n",
            "4                     0             2  \n",
            "..                  ...           ...  \n",
            "741                   0             1  \n",
            "742                   0             1  \n",
            "743                   1             1  \n",
            "744                   0             1  \n",
            "745                   0             2  \n",
            "\n",
            "[746 rows x 12 columns]\n"
          ]
        }
      ],
      "source": [
        "print(darba_datu_kopa)"
      ]
    },
    {
      "cell_type": "code",
      "execution_count": 31,
      "metadata": {},
      "outputs": [
        {
          "name": "stderr",
          "output_type": "stream",
          "text": [
            "C:\\Users\\Tomass\\AppData\\Local\\Packages\\PythonSoftwareFoundation.Python.3.11_qbz5n2kfra8p0\\LocalCache\\local-packages\\Python311\\site-packages\\sklearn\\neural_network\\_multilayer_perceptron.py:1124: DataConversionWarning: A column-vector y was passed when a 1d array was expected. Please change the shape of y to (n_samples, ), for example using ravel().\n",
            "  y = column_or_1d(y, warn=True)\n"
          ]
        },
        {
          "name": "stdout",
          "output_type": "stream",
          "text": [
            "              precision    recall  f1-score   support\n",
            "\n",
            "         0.0       0.75      0.83      0.79       111\n",
            "         1.0       0.81      0.73      0.77       113\n",
            "\n",
            "    accuracy                           0.78       224\n",
            "   macro avg       0.78      0.78      0.78       224\n",
            "weighted avg       0.78      0.78      0.78       224\n",
            "\n"
          ]
        },
        {
          "data": {
            "image/png": "[encoded data removed]",
            "text/plain": [
              "<Figure size 700x400 with 2 Axes>"
            ]
          },
          "metadata": {},
          "output_type": "display_data"
        }
      ],
      "source": [
        "#bibliotēkas ielāde datu sadalīšanai apmācības un testa datu kopās\n",
        "from sklearn.model_selection import train_test_split\n",
        "from sklearn.neural_network import MLPClassifier\n",
        "import matplotlib.pyplot as plt\n",
        "from sklearn.cluster import AgglomerativeClustering\n",
        "from sklearn.metrics import classification_report\n",
        "import pylab as pltb\n",
        "from sklearn.metrics import confusion_matrix\n",
        "\n",
        "#atsevišķajā mainīgajā saglabājam datu objektu izeju vērtības, t.i. \"pingvīnu sugas\"\n",
        "izejas = darba_datu_kopa[[\"HeartDisease\"]]\n",
        "#uzdodam datu objektu proporciju, kuri veidos apmācības datu kopu (70%)\n",
        "apmacibas_datu_proporcija = 0.7\n",
        "#tiek veikta datu kopas sadalīšana testa un apmācības kopā, izmantojot nejaušu sadalījumu ar attecību 70:30\n",
        "# darba_datu_kopa_klasterizacijai_3_pazimes = darba_datu_kopa[['Age','MaxHR','Oldpeak']]\n",
        "X_apmacibas, X_testa, y_apmacibas, y_testa = train_test_split(darba_datu_kopa[[\"Age\",\"RestingBP\",\"Cholesterol\", 'MaxHR', 'Oldpeak']], izejas, test_size=1.0 - apmacibas_datu_proporcija, random_state=42)\n",
        "\n",
        "#izveidojam mākslīgo neironu tīkla modeli ar 5 neironiem vienā slēptajā slānī\n",
        "#Tiek uzdoti šādi parametri: maksimālais apmācības iterāciju skaits ir 50, aktivizācijas funkcija ir loģistiskā, \n",
        "#svaru piemeklēšanas metode ir stohastiskais gradienta krītums, mācīšanās ātrums 0.2 un bez apmācības iterāciju izvades\n",
        "neironu_tikla_modelis_1_slanis = MLPClassifier(hidden_layer_sizes=(10), max_iter=1000, activation = 'logistic', solver='sgd', learning_rate_init = 0.1, random_state=42)\n",
        "#izveidotajam modelim tiek padotas apmācības datu kopas pazīmju vērtības un īstās izejas\n",
        "neironu_tikla_modelis_1_slanis.fit(X_apmacibas, y_apmacibas)\n",
        "\n",
        "y_prognoze_1_slanis = neironu_tikla_modelis_1_slanis.predict(X_testa)\n",
        "print(classification_report(y_testa,y_prognoze_1_slanis, zero_division=0))\n",
        "kludu_matrica = confusion_matrix(y_testa, y_prognoze_1_slanis)\n",
        "fig, ax = pltb.subplots(figsize=(7,4))\n",
        "sns.heatmap(kludu_matrica, annot = True, fmt = 'g', ax = ax);\n",
        "ax.set_xlabel('Prognozētas klašu iezīmes');\n",
        "ax.set_ylabel('Īstās klašu iezīmes');\n",
        "ax.set_title('Kļūdu matrica ' + \"HeartDisease\" + ' 2');\n",
        "\n",
        "# for izejas in darba_datu_kopa[[\"HeartDisease\"]]:\n",
        "#     createNeuralNetwork(izejas)"
      ]
    },
    {
      "cell_type": "markdown",
      "metadata": {
        "id": "MAldyTQbMyt0"
      },
      "source": [
        "kNN algoritms\n",
        "---"
      ]
    },
    {
      "cell_type": "code",
      "execution_count": 97,
      "metadata": {
        "colab": {
          "base_uri": "https://localhost:8080/",
          "height": 74
        },
        "id": "I5NAc-q8XWDn",
        "outputId": "ad945eb3-b3b9-424a-855a-21608756a56a"
      },
      "outputs": [
        {
          "name": "stderr",
          "output_type": "stream",
          "text": [
            "C:\\Users\\Tomass\\AppData\\Local\\Packages\\PythonSoftwareFoundation.Python.3.11_qbz5n2kfra8p0\\LocalCache\\local-packages\\Python311\\site-packages\\sklearn\\neighbors\\_classification.py:239: DataConversionWarning: A column-vector y was passed when a 1d array was expected. Please change the shape of y to (n_samples,), for example using ravel().\n",
            "  return self._fit(X, y)\n"
          ]
        },
        {
          "data": {
            "text/html": [
              "<style>#sk-container-id-31 {\n",
              "  /* Definition of color scheme common for light and dark mode */\n",
              "  --sklearn-color-text: #000;\n",
              "  --sklearn-color-text-muted: #666;\n",
              "  --sklearn-color-line: gray;\n",
              "  /* Definition of color scheme for unfitted estimators */\n",
              "  --sklearn-color-unfitted-level-0: #fff5e6;\n",
              "  --sklearn-color-unfitted-level-1: #f6e4d2;\n",
              "  --sklearn-color-unfitted-level-2: #ffe0b3;\n",
              "  --sklearn-color-unfitted-level-3: chocolate;\n",
              "  /* Definition of color scheme for fitted estimators */\n",
              "  --sklearn-color-fitted-level-0: #f0f8ff;\n",
              "  --sklearn-color-fitted-level-1: #d4ebff;\n",
              "  --sklearn-color-fitted-level-2: #b3dbfd;\n",
              "  --sklearn-color-fitted-level-3: cornflowerblue;\n",
              "\n",
              "  /* Specific color for light theme */\n",
              "  --sklearn-color-text-on-default-background: var(--sg-text-color, var(--theme-code-foreground, var(--jp-content-font-color1, black)));\n",
              "  --sklearn-color-background: var(--sg-background-color, var(--theme-background, var(--jp-layout-color0, white)));\n",
              "  --sklearn-color-border-box: var(--sg-text-color, var(--theme-code-foreground, var(--jp-content-font-color1, black)));\n",
              "  --sklearn-color-icon: #696969;\n",
              "\n",
              "  @media (prefers-color-scheme: dark) {\n",
              "    /* Redefinition of color scheme for dark theme */\n",
              "    --sklearn-color-text-on-default-background: var(--sg-text-color, var(--theme-code-foreground, var(--jp-content-font-color1, white)));\n",
              "    --sklearn-color-background: var(--sg-background-color, var(--theme-background, var(--jp-layout-color0, #111)));\n",
              "    --sklearn-color-border-box: var(--sg-text-color, var(--theme-code-foreground, var(--jp-content-font-color1, white)));\n",
              "    --sklearn-color-icon: #878787;\n",
              "  }\n",
              "}\n",
              "\n",
              "#sk-container-id-31 {\n",
              "  color: var(--sklearn-color-text);\n",
              "}\n",
              "\n",
              "#sk-container-id-31 pre {\n",
              "  padding: 0;\n",
              "}\n",
              "\n",
              "#sk-container-id-31 input.sk-hidden--visually {\n",
              "  border: 0;\n",
              "  clip: rect(1px 1px 1px 1px);\n",
              "  clip: rect(1px, 1px, 1px, 1px);\n",
              "  height: 1px;\n",
              "  margin: -1px;\n",
              "  overflow: hidden;\n",
              "  padding: 0;\n",
              "  position: absolute;\n",
              "  width: 1px;\n",
              "}\n",
              "\n",
              "#sk-container-id-31 div.sk-dashed-wrapped {\n",
              "  border: 1px dashed var(--sklearn-color-line);\n",
              "  margin: 0 0.4em 0.5em 0.4em;\n",
              "  box-sizing: border-box;\n",
              "  padding-bottom: 0.4em;\n",
              "  background-color: var(--sklearn-color-background);\n",
              "}\n",
              "\n",
              "#sk-container-id-31 div.sk-container {\n",
              "  /* jupyter's `normalize.less` sets `[hidden] { display: none; }`\n",
              "     but bootstrap.min.css set `[hidden] { display: none !important; }`\n",
              "     so we also need the `!important` here to be able to override the\n",
              "     default hidden behavior on the sphinx rendered scikit-learn.org.\n",
              "     See: https://github.com/scikit-learn/scikit-learn/issues/21755 */\n",
              "  display: inline-block !important;\n",
              "  position: relative;\n",
              "}\n",
              "\n",
              "#sk-container-id-31 div.sk-text-repr-fallback {\n",
              "  display: none;\n",
              "}\n",
              "\n",
              "div.sk-parallel-item,\n",
              "div.sk-serial,\n",
              "div.sk-item {\n",
              "  /* draw centered vertical line to link estimators */\n",
              "  background-image: linear-gradient(var(--sklearn-color-text-on-default-background), var(--sklearn-color-text-on-default-background));\n",
              "  background-size: 2px 100%;\n",
              "  background-repeat: no-repeat;\n",
              "  background-position: center center;\n",
              "}\n",
              "\n",
              "/* Parallel-specific style estimator block */\n",
              "\n",
              "#sk-container-id-31 div.sk-parallel-item::after {\n",
              "  content: \"\";\n",
              "  width: 100%;\n",
              "  border-bottom: 2px solid var(--sklearn-color-text-on-default-background);\n",
              "  flex-grow: 1;\n",
              "}\n",
              "\n",
              "#sk-container-id-31 div.sk-parallel {\n",
              "  display: flex;\n",
              "  align-items: stretch;\n",
              "  justify-content: center;\n",
              "  background-color: var(--sklearn-color-background);\n",
              "  position: relative;\n",
              "}\n",
              "\n",
              "#sk-container-id-31 div.sk-parallel-item {\n",
              "  display: flex;\n",
              "  flex-direction: column;\n",
              "}\n",
              "\n",
              "#sk-container-id-31 div.sk-parallel-item:first-child::after {\n",
              "  align-self: flex-end;\n",
              "  width: 50%;\n",
              "}\n",
              "\n",
              "#sk-container-id-31 div.sk-parallel-item:last-child::after {\n",
              "  align-self: flex-start;\n",
              "  width: 50%;\n",
              "}\n",
              "\n",
              "#sk-container-id-31 div.sk-parallel-item:only-child::after {\n",
              "  width: 0;\n",
              "}\n",
              "\n",
              "/* Serial-specific style estimator block */\n",
              "\n",
              "#sk-container-id-31 div.sk-serial {\n",
              "  display: flex;\n",
              "  flex-direction: column;\n",
              "  align-items: center;\n",
              "  background-color: var(--sklearn-color-background);\n",
              "  padding-right: 1em;\n",
              "  padding-left: 1em;\n",
              "}\n",
              "\n",
              "\n",
              "/* Toggleable style: style used for estimator/Pipeline/ColumnTransformer box that is\n",
              "clickable and can be expanded/collapsed.\n",
              "- Pipeline and ColumnTransformer use this feature and define the default style\n",
              "- Estimators will overwrite some part of the style using the `sk-estimator` class\n",
              "*/\n",
              "\n",
              "/* Pipeline and ColumnTransformer style (default) */\n",
              "\n",
              "#sk-container-id-31 div.sk-toggleable {\n",
              "  /* Default theme specific background. It is overwritten whether we have a\n",
              "  specific estimator or a Pipeline/ColumnTransformer */\n",
              "  background-color: var(--sklearn-color-background);\n",
              "}\n",
              "\n",
              "/* Toggleable label */\n",
              "#sk-container-id-31 label.sk-toggleable__label {\n",
              "  cursor: pointer;\n",
              "  display: flex;\n",
              "  width: 100%;\n",
              "  margin-bottom: 0;\n",
              "  padding: 0.5em;\n",
              "  box-sizing: border-box;\n",
              "  text-align: center;\n",
              "  align-items: start;\n",
              "  justify-content: space-between;\n",
              "  gap: 0.5em;\n",
              "}\n",
              "\n",
              "#sk-container-id-31 label.sk-toggleable__label .caption {\n",
              "  font-size: 0.6rem;\n",
              "  font-weight: lighter;\n",
              "  color: var(--sklearn-color-text-muted);\n",
              "}\n",
              "\n",
              "#sk-container-id-31 label.sk-toggleable__label-arrow:before {\n",
              "  /* Arrow on the left of the label */\n",
              "  content: \"▸\";\n",
              "  float: left;\n",
              "  margin-right: 0.25em;\n",
              "  color: var(--sklearn-color-icon);\n",
              "}\n",
              "\n",
              "#sk-container-id-31 label.sk-toggleable__label-arrow:hover:before {\n",
              "  color: var(--sklearn-color-text);\n",
              "}\n",
              "\n",
              "/* Toggleable content - dropdown */\n",
              "\n",
              "#sk-container-id-31 div.sk-toggleable__content {\n",
              "  max-height: 0;\n",
              "  max-width: 0;\n",
              "  overflow: hidden;\n",
              "  text-align: left;\n",
              "  /* unfitted */\n",
              "  background-color: var(--sklearn-color-unfitted-level-0);\n",
              "}\n",
              "\n",
              "#sk-container-id-31 div.sk-toggleable__content.fitted {\n",
              "  /* fitted */\n",
              "  background-color: var(--sklearn-color-fitted-level-0);\n",
              "}\n",
              "\n",
              "#sk-container-id-31 div.sk-toggleable__content pre {\n",
              "  margin: 0.2em;\n",
              "  border-radius: 0.25em;\n",
              "  color: var(--sklearn-color-text);\n",
              "  /* unfitted */\n",
              "  background-color: var(--sklearn-color-unfitted-level-0);\n",
              "}\n",
              "\n",
              "#sk-container-id-31 div.sk-toggleable__content.fitted pre {\n",
              "  /* unfitted */\n",
              "  background-color: var(--sklearn-color-fitted-level-0);\n",
              "}\n",
              "\n",
              "#sk-container-id-31 input.sk-toggleable__control:checked~div.sk-toggleable__content {\n",
              "  /* Expand drop-down */\n",
              "  max-height: 200px;\n",
              "  max-width: 100%;\n",
              "  overflow: auto;\n",
              "}\n",
              "\n",
              "#sk-container-id-31 input.sk-toggleable__control:checked~label.sk-toggleable__label-arrow:before {\n",
              "  content: \"▾\";\n",
              "}\n",
              "\n",
              "/* Pipeline/ColumnTransformer-specific style */\n",
              "\n",
              "#sk-container-id-31 div.sk-label input.sk-toggleable__control:checked~label.sk-toggleable__label {\n",
              "  color: var(--sklearn-color-text);\n",
              "  background-color: var(--sklearn-color-unfitted-level-2);\n",
              "}\n",
              "\n",
              "#sk-container-id-31 div.sk-label.fitted input.sk-toggleable__control:checked~label.sk-toggleable__label {\n",
              "  background-color: var(--sklearn-color-fitted-level-2);\n",
              "}\n",
              "\n",
              "/* Estimator-specific style */\n",
              "\n",
              "/* Colorize estimator box */\n",
              "#sk-container-id-31 div.sk-estimator input.sk-toggleable__control:checked~label.sk-toggleable__label {\n",
              "  /* unfitted */\n",
              "  background-color: var(--sklearn-color-unfitted-level-2);\n",
              "}\n",
              "\n",
              "#sk-container-id-31 div.sk-estimator.fitted input.sk-toggleable__control:checked~label.sk-toggleable__label {\n",
              "  /* fitted */\n",
              "  background-color: var(--sklearn-color-fitted-level-2);\n",
              "}\n",
              "\n",
              "#sk-container-id-31 div.sk-label label.sk-toggleable__label,\n",
              "#sk-container-id-31 div.sk-label label {\n",
              "  /* The background is the default theme color */\n",
              "  color: var(--sklearn-color-text-on-default-background);\n",
              "}\n",
              "\n",
              "/* On hover, darken the color of the background */\n",
              "#sk-container-id-31 div.sk-label:hover label.sk-toggleable__label {\n",
              "  color: var(--sklearn-color-text);\n",
              "  background-color: var(--sklearn-color-unfitted-level-2);\n",
              "}\n",
              "\n",
              "/* Label box, darken color on hover, fitted */\n",
              "#sk-container-id-31 div.sk-label.fitted:hover label.sk-toggleable__label.fitted {\n",
              "  color: var(--sklearn-color-text);\n",
              "  background-color: var(--sklearn-color-fitted-level-2);\n",
              "}\n",
              "\n",
              "/* Estimator label */\n",
              "\n",
              "#sk-container-id-31 div.sk-label label {\n",
              "  font-family: monospace;\n",
              "  font-weight: bold;\n",
              "  display: inline-block;\n",
              "  line-height: 1.2em;\n",
              "}\n",
              "\n",
              "#sk-container-id-31 div.sk-label-container {\n",
              "  text-align: center;\n",
              "}\n",
              "\n",
              "/* Estimator-specific */\n",
              "#sk-container-id-31 div.sk-estimator {\n",
              "  font-family: monospace;\n",
              "  border: 1px dotted var(--sklearn-color-border-box);\n",
              "  border-radius: 0.25em;\n",
              "  box-sizing: border-box;\n",
              "  margin-bottom: 0.5em;\n",
              "  /* unfitted */\n",
              "  background-color: var(--sklearn-color-unfitted-level-0);\n",
              "}\n",
              "\n",
              "#sk-container-id-31 div.sk-estimator.fitted {\n",
              "  /* fitted */\n",
              "  background-color: var(--sklearn-color-fitted-level-0);\n",
              "}\n",
              "\n",
              "/* on hover */\n",
              "#sk-container-id-31 div.sk-estimator:hover {\n",
              "  /* unfitted */\n",
              "  background-color: var(--sklearn-color-unfitted-level-2);\n",
              "}\n",
              "\n",
              "#sk-container-id-31 div.sk-estimator.fitted:hover {\n",
              "  /* fitted */\n",
              "  background-color: var(--sklearn-color-fitted-level-2);\n",
              "}\n",
              "\n",
              "/* Specification for estimator info (e.g. \"i\" and \"?\") */\n",
              "\n",
              "/* Common style for \"i\" and \"?\" */\n",
              "\n",
              ".sk-estimator-doc-link,\n",
              "a:link.sk-estimator-doc-link,\n",
              "a:visited.sk-estimator-doc-link {\n",
              "  float: right;\n",
              "  font-size: smaller;\n",
              "  line-height: 1em;\n",
              "  font-family: monospace;\n",
              "  background-color: var(--sklearn-color-background);\n",
              "  border-radius: 1em;\n",
              "  height: 1em;\n",
              "  width: 1em;\n",
              "  text-decoration: none !important;\n",
              "  margin-left: 0.5em;\n",
              "  text-align: center;\n",
              "  /* unfitted */\n",
              "  border: var(--sklearn-color-unfitted-level-1) 1pt solid;\n",
              "  color: var(--sklearn-color-unfitted-level-1);\n",
              "}\n",
              "\n",
              ".sk-estimator-doc-link.fitted,\n",
              "a:link.sk-estimator-doc-link.fitted,\n",
              "a:visited.sk-estimator-doc-link.fitted {\n",
              "  /* fitted */\n",
              "  border: var(--sklearn-color-fitted-level-1) 1pt solid;\n",
              "  color: var(--sklearn-color-fitted-level-1);\n",
              "}\n",
              "\n",
              "/* On hover */\n",
              "div.sk-estimator:hover .sk-estimator-doc-link:hover,\n",
              ".sk-estimator-doc-link:hover,\n",
              "div.sk-label-container:hover .sk-estimator-doc-link:hover,\n",
              ".sk-estimator-doc-link:hover {\n",
              "  /* unfitted */\n",
              "  background-color: var(--sklearn-color-unfitted-level-3);\n",
              "  color: var(--sklearn-color-background);\n",
              "  text-decoration: none;\n",
              "}\n",
              "\n",
              "div.sk-estimator.fitted:hover .sk-estimator-doc-link.fitted:hover,\n",
              ".sk-estimator-doc-link.fitted:hover,\n",
              "div.sk-label-container:hover .sk-estimator-doc-link.fitted:hover,\n",
              ".sk-estimator-doc-link.fitted:hover {\n",
              "  /* fitted */\n",
              "  background-color: var(--sklearn-color-fitted-level-3);\n",
              "  color: var(--sklearn-color-background);\n",
              "  text-decoration: none;\n",
              "}\n",
              "\n",
              "/* Span, style for the box shown on hovering the info icon */\n",
              ".sk-estimator-doc-link span {\n",
              "  display: none;\n",
              "  z-index: 9999;\n",
              "  position: relative;\n",
              "  font-weight: normal;\n",
              "  right: .2ex;\n",
              "  padding: .5ex;\n",
              "  margin: .5ex;\n",
              "  width: min-content;\n",
              "  min-width: 20ex;\n",
              "  max-width: 50ex;\n",
              "  color: var(--sklearn-color-text);\n",
              "  box-shadow: 2pt 2pt 4pt #999;\n",
              "  /* unfitted */\n",
              "  background: var(--sklearn-color-unfitted-level-0);\n",
              "  border: .5pt solid var(--sklearn-color-unfitted-level-3);\n",
              "}\n",
              "\n",
              ".sk-estimator-doc-link.fitted span {\n",
              "  /* fitted */\n",
              "  background: var(--sklearn-color-fitted-level-0);\n",
              "  border: var(--sklearn-color-fitted-level-3);\n",
              "}\n",
              "\n",
              ".sk-estimator-doc-link:hover span {\n",
              "  display: block;\n",
              "}\n",
              "\n",
              "/* \"?\"-specific style due to the `<a>` HTML tag */\n",
              "\n",
              "#sk-container-id-31 a.estimator_doc_link {\n",
              "  float: right;\n",
              "  font-size: 1rem;\n",
              "  line-height: 1em;\n",
              "  font-family: monospace;\n",
              "  background-color: var(--sklearn-color-background);\n",
              "  border-radius: 1rem;\n",
              "  height: 1rem;\n",
              "  width: 1rem;\n",
              "  text-decoration: none;\n",
              "  /* unfitted */\n",
              "  color: var(--sklearn-color-unfitted-level-1);\n",
              "  border: var(--sklearn-color-unfitted-level-1) 1pt solid;\n",
              "}\n",
              "\n",
              "#sk-container-id-31 a.estimator_doc_link.fitted {\n",
              "  /* fitted */\n",
              "  border: var(--sklearn-color-fitted-level-1) 1pt solid;\n",
              "  color: var(--sklearn-color-fitted-level-1);\n",
              "}\n",
              "\n",
              "/* On hover */\n",
              "#sk-container-id-31 a.estimator_doc_link:hover {\n",
              "  /* unfitted */\n",
              "  background-color: var(--sklearn-color-unfitted-level-3);\n",
              "  color: var(--sklearn-color-background);\n",
              "  text-decoration: none;\n",
              "}\n",
              "\n",
              "#sk-container-id-31 a.estimator_doc_link.fitted:hover {\n",
              "  /* fitted */\n",
              "  background-color: var(--sklearn-color-fitted-level-3);\n",
              "}\n",
              "</style><div id=\"sk-container-id-31\" class=\"sk-top-container\"><div class=\"sk-text-repr-fallback\"><pre>KNeighborsClassifier(n_neighbors=10)</pre><b>In a Jupyter environment, please rerun this cell to show the HTML representation or trust the notebook. <br />On GitHub, the HTML representation is unable to render, please try loading this page with nbviewer.org.</b></div><div class=\"sk-container\" hidden><div class=\"sk-item\"><div class=\"sk-estimator fitted sk-toggleable\"><input class=\"sk-toggleable__control sk-hidden--visually\" id=\"sk-estimator-id-31\" type=\"checkbox\" checked><label for=\"sk-estimator-id-31\" class=\"sk-toggleable__label fitted sk-toggleable__label-arrow\"><div><div>KNeighborsClassifier</div></div><div><a class=\"sk-estimator-doc-link fitted\" rel=\"noreferrer\" target=\"_blank\" href=\"https://scikit-learn.org/1.6/modules/generated/sklearn.neighbors.KNeighborsClassifier.html\">?<span>Documentation for KNeighborsClassifier</span></a><span class=\"sk-estimator-doc-link fitted\">i<span>Fitted</span></span></div></label><div class=\"sk-toggleable__content fitted\"><pre>KNeighborsClassifier(n_neighbors=10)</pre></div> </div></div></div></div>"
            ],
            "text/plain": [
              "KNeighborsClassifier(n_neighbors=10)"
            ]
          },
          "execution_count": 97,
          "metadata": {},
          "output_type": "execute_result"
        }
      ],
      "source": [
        "#algoritma izmantošanai nepieciešamās bibliotēkas ielāde\n",
        "from sklearn.neighbors import KNeighborsClassifier\n",
        "#Tiek izveidots algoritma modelis ar 5 kaimiņiem\n",
        "KNN_MODEL = KNeighborsClassifier(n_neighbors=10)\n",
        "#Padodam izveidotajam modelim apmācības datu kopu\n",
        "KNN_MODEL.fit(X_apmacibas, y_apmacibas)"
      ]
    },
    {
      "cell_type": "code",
      "execution_count": 99,
      "metadata": {
        "colab": {
          "base_uri": "https://localhost:8080/",
          "height": 585
        },
        "id": "OLRi5vSFXaXY",
        "outputId": "07ad8f33-9ea3-42d4-9fca-9e6cea1cbca1"
      },
      "outputs": [
        {
          "name": "stdout",
          "output_type": "stream",
          "text": [
            "              precision    recall  f1-score   support\n",
            "\n",
            "         0.0       0.73      0.88      0.80       111\n",
            "         1.0       0.85      0.67      0.75       113\n",
            "\n",
            "    accuracy                           0.78       224\n",
            "   macro avg       0.79      0.78      0.77       224\n",
            "weighted avg       0.79      0.78      0.77       224\n",
            "\n"
          ]
        },
        {
          "data": {
            "image/png": "[encoded data removed]",
            "text/plain": [
              "<Figure size 700x400 with 2 Axes>"
            ]
          },
          "metadata": {},
          "output_type": "display_data"
        }
      ],
      "source": [
        "#Nosakam klases iezīmes testa datu kopas datu objektiem\n",
        "y_prognoze_knn = KNN_MODEL.predict(X_testa)\n",
        "#izvadām modeļa veikuma novērtējuma metrikas\n",
        "print(classification_report(y_testa,y_prognoze_knn, zero_division=0))\n",
        "#veidojam kļūdu matricu\n",
        "kludu_matrica = confusion_matrix(y_testa, y_prognoze_knn)\n",
        "#izvadām kļūdu matricu\n",
        "fig, ax = pltb.subplots(figsize=(7,4))\n",
        "sns.heatmap(kludu_matrica, annot = True, fmt = 'g', ax = ax);\n",
        "ax.set_xlabel('Prognozētas klašu iezīmes');\n",
        "ax.set_ylabel('Īstās klašu iezīmes');\n",
        "ax.set_title('Kļūdu matrica n=10');\n",
        "ax.xaxis.set_ticklabels(datu_kopa['HeartDisease'].unique());\n",
        "ax.yaxis.set_ticklabels(datu_kopa['HeartDisease'].unique());"
      ]
    },
    {
      "cell_type": "markdown",
      "metadata": {
        "id": "pJzEBdLZbvLp"
      },
      "source": [
        "Kļūdu matricā var redzēt, ka tikai 3 datu objekti tika klasificēti nepareizi, līdz ar to kopējā algoritma precizitāte ir diezgan augsta - 97%.Tā ir pat nedaudz augstākā nekā neironu tīkla modelim"
      ]
    },
    {
      "cell_type": "code",
      "execution_count": 125,
      "metadata": {},
      "outputs": [
        {
          "name": "stderr",
          "output_type": "stream",
          "text": [
            "C:\\Users\\Tomass\\AppData\\Local\\Packages\\PythonSoftwareFoundation.Python.3.11_qbz5n2kfra8p0\\LocalCache\\local-packages\\Python311\\site-packages\\sklearn\\utils\\validation.py:1408: DataConversionWarning: A column-vector y was passed when a 1d array was expected. Please change the shape of y to (n_samples, ), for example using ravel().\n",
            "  y = column_or_1d(y, warn=True)\n"
          ]
        },
        {
          "data": {
            "text/html": [
              "<style>#sk-container-id-42 {\n",
              "  /* Definition of color scheme common for light and dark mode */\n",
              "  --sklearn-color-text: #000;\n",
              "  --sklearn-color-text-muted: #666;\n",
              "  --sklearn-color-line: gray;\n",
              "  /* Definition of color scheme for unfitted estimators */\n",
              "  --sklearn-color-unfitted-level-0: #fff5e6;\n",
              "  --sklearn-color-unfitted-level-1: #f6e4d2;\n",
              "  --sklearn-color-unfitted-level-2: #ffe0b3;\n",
              "  --sklearn-color-unfitted-level-3: chocolate;\n",
              "  /* Definition of color scheme for fitted estimators */\n",
              "  --sklearn-color-fitted-level-0: #f0f8ff;\n",
              "  --sklearn-color-fitted-level-1: #d4ebff;\n",
              "  --sklearn-color-fitted-level-2: #b3dbfd;\n",
              "  --sklearn-color-fitted-level-3: cornflowerblue;\n",
              "\n",
              "  /* Specific color for light theme */\n",
              "  --sklearn-color-text-on-default-background: var(--sg-text-color, var(--theme-code-foreground, var(--jp-content-font-color1, black)));\n",
              "  --sklearn-color-background: var(--sg-background-color, var(--theme-background, var(--jp-layout-color0, white)));\n",
              "  --sklearn-color-border-box: var(--sg-text-color, var(--theme-code-foreground, var(--jp-content-font-color1, black)));\n",
              "  --sklearn-color-icon: #696969;\n",
              "\n",
              "  @media (prefers-color-scheme: dark) {\n",
              "    /* Redefinition of color scheme for dark theme */\n",
              "    --sklearn-color-text-on-default-background: var(--sg-text-color, var(--theme-code-foreground, var(--jp-content-font-color1, white)));\n",
              "    --sklearn-color-background: var(--sg-background-color, var(--theme-background, var(--jp-layout-color0, #111)));\n",
              "    --sklearn-color-border-box: var(--sg-text-color, var(--theme-code-foreground, var(--jp-content-font-color1, white)));\n",
              "    --sklearn-color-icon: #878787;\n",
              "  }\n",
              "}\n",
              "\n",
              "#sk-container-id-42 {\n",
              "  color: var(--sklearn-color-text);\n",
              "}\n",
              "\n",
              "#sk-container-id-42 pre {\n",
              "  padding: 0;\n",
              "}\n",
              "\n",
              "#sk-container-id-42 input.sk-hidden--visually {\n",
              "  border: 0;\n",
              "  clip: rect(1px 1px 1px 1px);\n",
              "  clip: rect(1px, 1px, 1px, 1px);\n",
              "  height: 1px;\n",
              "  margin: -1px;\n",
              "  overflow: hidden;\n",
              "  padding: 0;\n",
              "  position: absolute;\n",
              "  width: 1px;\n",
              "}\n",
              "\n",
              "#sk-container-id-42 div.sk-dashed-wrapped {\n",
              "  border: 1px dashed var(--sklearn-color-line);\n",
              "  margin: 0 0.4em 0.5em 0.4em;\n",
              "  box-sizing: border-box;\n",
              "  padding-bottom: 0.4em;\n",
              "  background-color: var(--sklearn-color-background);\n",
              "}\n",
              "\n",
              "#sk-container-id-42 div.sk-container {\n",
              "  /* jupyter's `normalize.less` sets `[hidden] { display: none; }`\n",
              "     but bootstrap.min.css set `[hidden] { display: none !important; }`\n",
              "     so we also need the `!important` here to be able to override the\n",
              "     default hidden behavior on the sphinx rendered scikit-learn.org.\n",
              "     See: https://github.com/scikit-learn/scikit-learn/issues/21755 */\n",
              "  display: inline-block !important;\n",
              "  position: relative;\n",
              "}\n",
              "\n",
              "#sk-container-id-42 div.sk-text-repr-fallback {\n",
              "  display: none;\n",
              "}\n",
              "\n",
              "div.sk-parallel-item,\n",
              "div.sk-serial,\n",
              "div.sk-item {\n",
              "  /* draw centered vertical line to link estimators */\n",
              "  background-image: linear-gradient(var(--sklearn-color-text-on-default-background), var(--sklearn-color-text-on-default-background));\n",
              "  background-size: 2px 100%;\n",
              "  background-repeat: no-repeat;\n",
              "  background-position: center center;\n",
              "}\n",
              "\n",
              "/* Parallel-specific style estimator block */\n",
              "\n",
              "#sk-container-id-42 div.sk-parallel-item::after {\n",
              "  content: \"\";\n",
              "  width: 100%;\n",
              "  border-bottom: 2px solid var(--sklearn-color-text-on-default-background);\n",
              "  flex-grow: 1;\n",
              "}\n",
              "\n",
              "#sk-container-id-42 div.sk-parallel {\n",
              "  display: flex;\n",
              "  align-items: stretch;\n",
              "  justify-content: center;\n",
              "  background-color: var(--sklearn-color-background);\n",
              "  position: relative;\n",
              "}\n",
              "\n",
              "#sk-container-id-42 div.sk-parallel-item {\n",
              "  display: flex;\n",
              "  flex-direction: column;\n",
              "}\n",
              "\n",
              "#sk-container-id-42 div.sk-parallel-item:first-child::after {\n",
              "  align-self: flex-end;\n",
              "  width: 50%;\n",
              "}\n",
              "\n",
              "#sk-container-id-42 div.sk-parallel-item:last-child::after {\n",
              "  align-self: flex-start;\n",
              "  width: 50%;\n",
              "}\n",
              "\n",
              "#sk-container-id-42 div.sk-parallel-item:only-child::after {\n",
              "  width: 0;\n",
              "}\n",
              "\n",
              "/* Serial-specific style estimator block */\n",
              "\n",
              "#sk-container-id-42 div.sk-serial {\n",
              "  display: flex;\n",
              "  flex-direction: column;\n",
              "  align-items: center;\n",
              "  background-color: var(--sklearn-color-background);\n",
              "  padding-right: 1em;\n",
              "  padding-left: 1em;\n",
              "}\n",
              "\n",
              "\n",
              "/* Toggleable style: style used for estimator/Pipeline/ColumnTransformer box that is\n",
              "clickable and can be expanded/collapsed.\n",
              "- Pipeline and ColumnTransformer use this feature and define the default style\n",
              "- Estimators will overwrite some part of the style using the `sk-estimator` class\n",
              "*/\n",
              "\n",
              "/* Pipeline and ColumnTransformer style (default) */\n",
              "\n",
              "#sk-container-id-42 div.sk-toggleable {\n",
              "  /* Default theme specific background. It is overwritten whether we have a\n",
              "  specific estimator or a Pipeline/ColumnTransformer */\n",
              "  background-color: var(--sklearn-color-background);\n",
              "}\n",
              "\n",
              "/* Toggleable label */\n",
              "#sk-container-id-42 label.sk-toggleable__label {\n",
              "  cursor: pointer;\n",
              "  display: flex;\n",
              "  width: 100%;\n",
              "  margin-bottom: 0;\n",
              "  padding: 0.5em;\n",
              "  box-sizing: border-box;\n",
              "  text-align: center;\n",
              "  align-items: start;\n",
              "  justify-content: space-between;\n",
              "  gap: 0.5em;\n",
              "}\n",
              "\n",
              "#sk-container-id-42 label.sk-toggleable__label .caption {\n",
              "  font-size: 0.6rem;\n",
              "  font-weight: lighter;\n",
              "  color: var(--sklearn-color-text-muted);\n",
              "}\n",
              "\n",
              "#sk-container-id-42 label.sk-toggleable__label-arrow:before {\n",
              "  /* Arrow on the left of the label */\n",
              "  content: \"▸\";\n",
              "  float: left;\n",
              "  margin-right: 0.25em;\n",
              "  color: var(--sklearn-color-icon);\n",
              "}\n",
              "\n",
              "#sk-container-id-42 label.sk-toggleable__label-arrow:hover:before {\n",
              "  color: var(--sklearn-color-text);\n",
              "}\n",
              "\n",
              "/* Toggleable content - dropdown */\n",
              "\n",
              "#sk-container-id-42 div.sk-toggleable__content {\n",
              "  max-height: 0;\n",
              "  max-width: 0;\n",
              "  overflow: hidden;\n",
              "  text-align: left;\n",
              "  /* unfitted */\n",
              "  background-color: var(--sklearn-color-unfitted-level-0);\n",
              "}\n",
              "\n",
              "#sk-container-id-42 div.sk-toggleable__content.fitted {\n",
              "  /* fitted */\n",
              "  background-color: var(--sklearn-color-fitted-level-0);\n",
              "}\n",
              "\n",
              "#sk-container-id-42 div.sk-toggleable__content pre {\n",
              "  margin: 0.2em;\n",
              "  border-radius: 0.25em;\n",
              "  color: var(--sklearn-color-text);\n",
              "  /* unfitted */\n",
              "  background-color: var(--sklearn-color-unfitted-level-0);\n",
              "}\n",
              "\n",
              "#sk-container-id-42 div.sk-toggleable__content.fitted pre {\n",
              "  /* unfitted */\n",
              "  background-color: var(--sklearn-color-fitted-level-0);\n",
              "}\n",
              "\n",
              "#sk-container-id-42 input.sk-toggleable__control:checked~div.sk-toggleable__content {\n",
              "  /* Expand drop-down */\n",
              "  max-height: 200px;\n",
              "  max-width: 100%;\n",
              "  overflow: auto;\n",
              "}\n",
              "\n",
              "#sk-container-id-42 input.sk-toggleable__control:checked~label.sk-toggleable__label-arrow:before {\n",
              "  content: \"▾\";\n",
              "}\n",
              "\n",
              "/* Pipeline/ColumnTransformer-specific style */\n",
              "\n",
              "#sk-container-id-42 div.sk-label input.sk-toggleable__control:checked~label.sk-toggleable__label {\n",
              "  color: var(--sklearn-color-text);\n",
              "  background-color: var(--sklearn-color-unfitted-level-2);\n",
              "}\n",
              "\n",
              "#sk-container-id-42 div.sk-label.fitted input.sk-toggleable__control:checked~label.sk-toggleable__label {\n",
              "  background-color: var(--sklearn-color-fitted-level-2);\n",
              "}\n",
              "\n",
              "/* Estimator-specific style */\n",
              "\n",
              "/* Colorize estimator box */\n",
              "#sk-container-id-42 div.sk-estimator input.sk-toggleable__control:checked~label.sk-toggleable__label {\n",
              "  /* unfitted */\n",
              "  background-color: var(--sklearn-color-unfitted-level-2);\n",
              "}\n",
              "\n",
              "#sk-container-id-42 div.sk-estimator.fitted input.sk-toggleable__control:checked~label.sk-toggleable__label {\n",
              "  /* fitted */\n",
              "  background-color: var(--sklearn-color-fitted-level-2);\n",
              "}\n",
              "\n",
              "#sk-container-id-42 div.sk-label label.sk-toggleable__label,\n",
              "#sk-container-id-42 div.sk-label label {\n",
              "  /* The background is the default theme color */\n",
              "  color: var(--sklearn-color-text-on-default-background);\n",
              "}\n",
              "\n",
              "/* On hover, darken the color of the background */\n",
              "#sk-container-id-42 div.sk-label:hover label.sk-toggleable__label {\n",
              "  color: var(--sklearn-color-text);\n",
              "  background-color: var(--sklearn-color-unfitted-level-2);\n",
              "}\n",
              "\n",
              "/* Label box, darken color on hover, fitted */\n",
              "#sk-container-id-42 div.sk-label.fitted:hover label.sk-toggleable__label.fitted {\n",
              "  color: var(--sklearn-color-text);\n",
              "  background-color: var(--sklearn-color-fitted-level-2);\n",
              "}\n",
              "\n",
              "/* Estimator label */\n",
              "\n",
              "#sk-container-id-42 div.sk-label label {\n",
              "  font-family: monospace;\n",
              "  font-weight: bold;\n",
              "  display: inline-block;\n",
              "  line-height: 1.2em;\n",
              "}\n",
              "\n",
              "#sk-container-id-42 div.sk-label-container {\n",
              "  text-align: center;\n",
              "}\n",
              "\n",
              "/* Estimator-specific */\n",
              "#sk-container-id-42 div.sk-estimator {\n",
              "  font-family: monospace;\n",
              "  border: 1px dotted var(--sklearn-color-border-box);\n",
              "  border-radius: 0.25em;\n",
              "  box-sizing: border-box;\n",
              "  margin-bottom: 0.5em;\n",
              "  /* unfitted */\n",
              "  background-color: var(--sklearn-color-unfitted-level-0);\n",
              "}\n",
              "\n",
              "#sk-container-id-42 div.sk-estimator.fitted {\n",
              "  /* fitted */\n",
              "  background-color: var(--sklearn-color-fitted-level-0);\n",
              "}\n",
              "\n",
              "/* on hover */\n",
              "#sk-container-id-42 div.sk-estimator:hover {\n",
              "  /* unfitted */\n",
              "  background-color: var(--sklearn-color-unfitted-level-2);\n",
              "}\n",
              "\n",
              "#sk-container-id-42 div.sk-estimator.fitted:hover {\n",
              "  /* fitted */\n",
              "  background-color: var(--sklearn-color-fitted-level-2);\n",
              "}\n",
              "\n",
              "/* Specification for estimator info (e.g. \"i\" and \"?\") */\n",
              "\n",
              "/* Common style for \"i\" and \"?\" */\n",
              "\n",
              ".sk-estimator-doc-link,\n",
              "a:link.sk-estimator-doc-link,\n",
              "a:visited.sk-estimator-doc-link {\n",
              "  float: right;\n",
              "  font-size: smaller;\n",
              "  line-height: 1em;\n",
              "  font-family: monospace;\n",
              "  background-color: var(--sklearn-color-background);\n",
              "  border-radius: 1em;\n",
              "  height: 1em;\n",
              "  width: 1em;\n",
              "  text-decoration: none !important;\n",
              "  margin-left: 0.5em;\n",
              "  text-align: center;\n",
              "  /* unfitted */\n",
              "  border: var(--sklearn-color-unfitted-level-1) 1pt solid;\n",
              "  color: var(--sklearn-color-unfitted-level-1);\n",
              "}\n",
              "\n",
              ".sk-estimator-doc-link.fitted,\n",
              "a:link.sk-estimator-doc-link.fitted,\n",
              "a:visited.sk-estimator-doc-link.fitted {\n",
              "  /* fitted */\n",
              "  border: var(--sklearn-color-fitted-level-1) 1pt solid;\n",
              "  color: var(--sklearn-color-fitted-level-1);\n",
              "}\n",
              "\n",
              "/* On hover */\n",
              "div.sk-estimator:hover .sk-estimator-doc-link:hover,\n",
              ".sk-estimator-doc-link:hover,\n",
              "div.sk-label-container:hover .sk-estimator-doc-link:hover,\n",
              ".sk-estimator-doc-link:hover {\n",
              "  /* unfitted */\n",
              "  background-color: var(--sklearn-color-unfitted-level-3);\n",
              "  color: var(--sklearn-color-background);\n",
              "  text-decoration: none;\n",
              "}\n",
              "\n",
              "div.sk-estimator.fitted:hover .sk-estimator-doc-link.fitted:hover,\n",
              ".sk-estimator-doc-link.fitted:hover,\n",
              "div.sk-label-container:hover .sk-estimator-doc-link.fitted:hover,\n",
              ".sk-estimator-doc-link.fitted:hover {\n",
              "  /* fitted */\n",
              "  background-color: var(--sklearn-color-fitted-level-3);\n",
              "  color: var(--sklearn-color-background);\n",
              "  text-decoration: none;\n",
              "}\n",
              "\n",
              "/* Span, style for the box shown on hovering the info icon */\n",
              ".sk-estimator-doc-link span {\n",
              "  display: none;\n",
              "  z-index: 9999;\n",
              "  position: relative;\n",
              "  font-weight: normal;\n",
              "  right: .2ex;\n",
              "  padding: .5ex;\n",
              "  margin: .5ex;\n",
              "  width: min-content;\n",
              "  min-width: 20ex;\n",
              "  max-width: 50ex;\n",
              "  color: var(--sklearn-color-text);\n",
              "  box-shadow: 2pt 2pt 4pt #999;\n",
              "  /* unfitted */\n",
              "  background: var(--sklearn-color-unfitted-level-0);\n",
              "  border: .5pt solid var(--sklearn-color-unfitted-level-3);\n",
              "}\n",
              "\n",
              ".sk-estimator-doc-link.fitted span {\n",
              "  /* fitted */\n",
              "  background: var(--sklearn-color-fitted-level-0);\n",
              "  border: var(--sklearn-color-fitted-level-3);\n",
              "}\n",
              "\n",
              ".sk-estimator-doc-link:hover span {\n",
              "  display: block;\n",
              "}\n",
              "\n",
              "/* \"?\"-specific style due to the `<a>` HTML tag */\n",
              "\n",
              "#sk-container-id-42 a.estimator_doc_link {\n",
              "  float: right;\n",
              "  font-size: 1rem;\n",
              "  line-height: 1em;\n",
              "  font-family: monospace;\n",
              "  background-color: var(--sklearn-color-background);\n",
              "  border-radius: 1rem;\n",
              "  height: 1rem;\n",
              "  width: 1rem;\n",
              "  text-decoration: none;\n",
              "  /* unfitted */\n",
              "  color: var(--sklearn-color-unfitted-level-1);\n",
              "  border: var(--sklearn-color-unfitted-level-1) 1pt solid;\n",
              "}\n",
              "\n",
              "#sk-container-id-42 a.estimator_doc_link.fitted {\n",
              "  /* fitted */\n",
              "  border: var(--sklearn-color-fitted-level-1) 1pt solid;\n",
              "  color: var(--sklearn-color-fitted-level-1);\n",
              "}\n",
              "\n",
              "/* On hover */\n",
              "#sk-container-id-42 a.estimator_doc_link:hover {\n",
              "  /* unfitted */\n",
              "  background-color: var(--sklearn-color-unfitted-level-3);\n",
              "  color: var(--sklearn-color-background);\n",
              "  text-decoration: none;\n",
              "}\n",
              "\n",
              "#sk-container-id-42 a.estimator_doc_link.fitted:hover {\n",
              "  /* fitted */\n",
              "  background-color: var(--sklearn-color-fitted-level-3);\n",
              "}\n",
              "</style><div id=\"sk-container-id-42\" class=\"sk-top-container\"><div class=\"sk-text-repr-fallback\"><pre>SVC(gamma=1.0, kernel=&#x27;sigmoid&#x27;, random_state=42)</pre><b>In a Jupyter environment, please rerun this cell to show the HTML representation or trust the notebook. <br />On GitHub, the HTML representation is unable to render, please try loading this page with nbviewer.org.</b></div><div class=\"sk-container\" hidden><div class=\"sk-item\"><div class=\"sk-estimator fitted sk-toggleable\"><input class=\"sk-toggleable__control sk-hidden--visually\" id=\"sk-estimator-id-42\" type=\"checkbox\" checked><label for=\"sk-estimator-id-42\" class=\"sk-toggleable__label fitted sk-toggleable__label-arrow\"><div><div>SVC</div></div><div><a class=\"sk-estimator-doc-link fitted\" rel=\"noreferrer\" target=\"_blank\" href=\"https://scikit-learn.org/1.6/modules/generated/sklearn.svm.SVC.html\">?<span>Documentation for SVC</span></a><span class=\"sk-estimator-doc-link fitted\">i<span>Fitted</span></span></div></label><div class=\"sk-toggleable__content fitted\"><pre>SVC(gamma=1.0, kernel=&#x27;sigmoid&#x27;, random_state=42)</pre></div> </div></div></div></div>"
            ],
            "text/plain": [
              "SVC(gamma=1.0, kernel='sigmoid', random_state=42)"
            ]
          },
          "execution_count": 125,
          "metadata": {},
          "output_type": "execute_result"
        }
      ],
      "source": [
        "from sklearn.svm import SVC\n",
        "\n",
        "SVM_MODEL = SVC(kernel='sigmoid', C=1.0, gamma=1.0 , random_state=42)\n",
        "\n",
        "#Padodam izveidotajam modelim apmācības datu kopu\n",
        "SVM_MODEL.fit(X_apmacibas, y_apmacibas)"
      ]
    },
    {
      "cell_type": "code",
      "execution_count": 127,
      "metadata": {},
      "outputs": [
        {
          "name": "stdout",
          "output_type": "stream",
          "text": [
            "              precision    recall  f1-score   support\n",
            "\n",
            "         0.0       0.73      0.84      0.78       111\n",
            "         1.0       0.81      0.70      0.75       113\n",
            "\n",
            "    accuracy                           0.77       224\n",
            "   macro avg       0.77      0.77      0.77       224\n",
            "weighted avg       0.77      0.77      0.77       224\n",
            "\n"
          ]
        },
        {
          "data": {
            "image/png": "[encoded data removed]",
            "text/plain": [
              "<Figure size 700x400 with 2 Axes>"
            ]
          },
          "metadata": {},
          "output_type": "display_data"
        }
      ],
      "source": [
        "#Nosakam klases iezīmes testa datu kopas datu objektiem\n",
        "y_prognoze_svm = SVM_MODEL.predict(X_testa)\n",
        "#izvadām modeļa veikuma novērtējuma metrikas\n",
        "print(classification_report(y_testa,y_prognoze_svm, zero_division=0))\n",
        "#veidojam kļūdu matricu\n",
        "kludu_matrica = confusion_matrix(y_testa, y_prognoze_svm)\n",
        "#izvadām kļūdu matricu\n",
        "fig, ax = pltb.subplots(figsize=(7,4))\n",
        "sns.heatmap(kludu_matrica, annot = True, fmt = 'g', ax = ax);\n",
        "ax.set_xlabel('Prognozētas klašu iezīmes');\n",
        "ax.set_ylabel('Īstās klašu iezīmes');\n",
        "ax.set_title('Kļūdu matrica');\n",
        "ax.xaxis.set_ticklabels(datu_kopa['HeartDisease'].unique());\n",
        "ax.yaxis.set_ticklabels(datu_kopa['HeartDisease'].unique());"
      ]
    }
  ],
  "metadata": {
    "colab": {
      "provenance": [],
      "toc_visible": true
    },
    "kernelspec": {
      "display_name": "Python 3",
      "language": "python",
      "name": "python3"
    },
    "language_info": {
      "codemirror_mode": {
        "name": "ipython",
        "version": 3
      },
      "file_extension": ".py",
      "mimetype": "text/x-python",
      "name": "python",
      "nbconvert_exporter": "python",
      "pygments_lexer": "ipython3",
      "version": "3.11.9"
    }
  },
  "nbformat": 4,
  "nbformat_minor": 0
}
