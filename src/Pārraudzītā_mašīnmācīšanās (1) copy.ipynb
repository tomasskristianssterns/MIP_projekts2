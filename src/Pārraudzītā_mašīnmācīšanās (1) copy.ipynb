{
  "cells": [
    {
      "cell_type": "markdown",
      "metadata": {
        "id": "qSZfcmo2a3w3"
      },
      "source": [
        "Datu ielasīšana, priekšapstrāde un sākotnējā atspoguļošana\n",
        "---\n",
        "\n"
      ]
    },
    {
      "cell_type": "code",
      "execution_count": null,
      "metadata": {
        "id": "_gMBrFC_S3JA"
      },
      "outputs": [],
      "source": [
        "#Visu datu ielasīšanai, priekšapstrādei un vizualizācijai nepieciešamo bibliotēku pievienošana\n",
        "import csv          \n",
        "import requests     \n",
        "import numpy as np  \n",
        "import pandas as pd \n",
        "import matplotlib\n",
        "import matplotlib.pyplot as plt\n",
        "import seaborn as sns\n",
        "import scipy.stats as stats"
      ]
    },
    {
      "cell_type": "code",
      "execution_count": null,
      "metadata": {
        "colab": {
          "base_uri": "https://localhost:8080/"
        },
        "id": "fnkTnkNiS6Sq",
        "outputId": "a2c71292-6684-45d8-8565-5a9772ca1134"
      },
      "outputs": [],
      "source": [
        "#Pieslēgšanas Google kontam\n",
        "# from google.colab import drive\n",
        "# drive.mount('/content/gdrive')\n",
        "#Tiek iegūts diska saturs\n",
        "#  import os\n",
        "# os.chdir(\"/content/gdrive/MyDrive/Colab Notebooks\")\n",
        "# !ls\n",
        "#Tiek nolasīts datu kopas fails\n",
        "# datu_kopa = pd.read_csv('C:/Users/valte/source/repos/MIP_projekts2/dataset/filtered_heart.csv')\n",
        "datu_kopa = pd.read_csv('/workspaces/MIP_projekts2/dataset/filtered_heart.csv')\n",
        "#Tiek atspoguļoti datu kopas kolonu datu tipi\n",
        "print(datu_kopa.dtypes) "
      ]
    },
    {
      "cell_type": "markdown",
      "metadata": {
        "id": "kzOgmQHYrhsu"
      },
      "source": [
        "### Datu tipu salāgošana "
      ]
    },
    {
      "cell_type": "code",
      "execution_count": null,
      "metadata": {
        "colab": {
          "base_uri": "https://localhost:8080/"
        },
        "id": "wiiGMGnO_UtH",
        "outputId": "fbc0aeff-3f7c-4694-e0fb-52a627d6d2ba"
      },
      "outputs": [],
      "source": [
        "#Tā kā kategoriskiem atribūtiem tiek norādīts tips \"object\", tas tiek mainīts uz \"category\"\n",
        "datu_kopa[\"Sex\"] = datu_kopa[\"Sex\"].astype('category')\n",
        "datu_kopa[\"ChestPainType\"] = datu_kopa[\"ChestPainType\"].astype('category')\n",
        "datu_kopa[\"RestingECG\"] = datu_kopa[\"RestingECG\"].astype('category')\n",
        "datu_kopa[\"ExerciseAngina\"] = datu_kopa[\"ExerciseAngina\"].astype('category')\n",
        "datu_kopa[\"ST_Slope\"] = datu_kopa[\"ST_Slope\"].astype('category')\n",
        "#Tiek izvadīti pirmie 7 ieraksti datu kopā\n",
        "print(datu_kopa.head(7))"
      ]
    },
    {
      "cell_type": "code",
      "execution_count": null,
      "metadata": {
        "colab": {
          "base_uri": "https://localhost:8080/"
        },
        "id": "bHLRa0FLYNm1",
        "outputId": "d1e0a7dd-0b2b-48fe-b3a5-840b134ef974"
      },
      "outputs": [],
      "source": [
        "#Tiek izveidotas jaunas kolonas kategoriskajiem atribūtiem un to vērtības tiek pārvērstas par skaitliskām vērtībām\n",
        "datu_kopa[\"Sex_cat\"] = datu_kopa[\"Sex\"].cat.codes\n",
        "datu_kopa[\"ChestPainType_cat\"] = datu_kopa[\"ChestPainType\"].cat.codes\n",
        "datu_kopa[\"RestingECG_cat\"] = datu_kopa[\"RestingECG\"].cat.codes\n",
        "datu_kopa[\"ExerciseAngina_cat\"] = datu_kopa[\"ExerciseAngina\"].cat.codes\n",
        "datu_kopa[\"ST_Slope_cat\"] = datu_kopa[\"ST_Slope\"].cat.codes\n",
        "#Tiek atspoguļoti datu kopas kolonu datu tipi\n",
        "print(datu_kopa.dtypes)\n",
        "#Tiek izvadīti pirmie 7 ieraksti datu kopā\n",
        "print(datu_kopa.head(7))\n",
        "# a = datu_kopa\n",
        "# print(a)"
      ]
    },
    {
      "cell_type": "markdown",
      "metadata": {
        "id": "L8cs2e3ern4E"
      },
      "source": [
        "###Informācijas par datu kopu izvade un analīze"
      ]
    },
    {
      "cell_type": "code",
      "execution_count": null,
      "metadata": {
        "colab": {
          "base_uri": "https://localhost:8080/"
        },
        "id": "H2Pl5zG9BUnm",
        "outputId": "007be7aa-04c7-4546-8e4a-300492355f6d"
      },
      "outputs": [],
      "source": [
        "#Tālākajam darbam tiek atmesti kategorijas tipa atribūti\n",
        "samazinata_datu_kopa = datu_kopa[[\"Age\",\"RestingBP\",\"Cholesterol\",\"FastingBS\",\"MaxHR\",\"Oldpeak\",\"HeartDisease\",\"Sex_cat\",\"ChestPainType_cat\",\"RestingECG_cat\",\"ExerciseAngina_cat\",\"ST_Slope_cat\"]]\n",
        "#Tiek izvadīti dati par datu kopu\n",
        "# print(samazinata_datu_kopa.describe())\n",
        "# print(samazinata_datu_kopa.info())\n",
        "print(samazinata_datu_kopa)"
      ]
    },
    {
      "cell_type": "markdown",
      "metadata": {
        "id": "u7pgD7GNr3Sk"
      },
      "source": [
        "### Datu normalizācija"
      ]
    },
    {
      "cell_type": "code",
      "execution_count": null,
      "metadata": {
        "colab": {
          "base_uri": "https://localhost:8080/"
        },
        "id": "0rQakCOXGhSg",
        "outputId": "2867a028-3034-472c-e358-722cd88a7a42"
      },
      "outputs": [],
      "source": [
        "#Četriem atribūtiem tiek veikta datu normalizācija, lai dati būtu uzskatāmaki \"Age\",\"RestingBP\",\"Cholesterol\",\"FastingBS\",\"MaxHR\",\"Oldpeak\",\"HeartDisease\"\n",
        "darba_datu_kopa=samazinata_datu_kopa.copy()\n",
        "darba_datu_kopa['Age']=(darba_datu_kopa['Age']-darba_datu_kopa['Age'].min())/(darba_datu_kopa['Age'].max()-darba_datu_kopa['Age'].min())\n",
        "darba_datu_kopa['RestingBP']=(darba_datu_kopa['RestingBP']-darba_datu_kopa['RestingBP'].min())/(darba_datu_kopa['RestingBP'].max()-darba_datu_kopa['RestingBP'].min())\n",
        "darba_datu_kopa['Cholesterol']=(darba_datu_kopa['Cholesterol']-darba_datu_kopa['Cholesterol'].min())/(darba_datu_kopa['Cholesterol'].max()-darba_datu_kopa['Cholesterol'].min())\n",
        "darba_datu_kopa['FastingBS']=(darba_datu_kopa['FastingBS']-darba_datu_kopa['FastingBS'].min())/(darba_datu_kopa['FastingBS'].max()-darba_datu_kopa['FastingBS'].min())\n",
        "darba_datu_kopa['MaxHR']=(darba_datu_kopa['MaxHR']-darba_datu_kopa['MaxHR'].min())/(darba_datu_kopa['MaxHR'].max()-darba_datu_kopa['MaxHR'].min())\n",
        "darba_datu_kopa['Oldpeak']=(darba_datu_kopa['Oldpeak']-darba_datu_kopa['Oldpeak'].min())/(darba_datu_kopa['Oldpeak'].max()-darba_datu_kopa['Oldpeak'].min())\n",
        "darba_datu_kopa['HeartDisease']=(darba_datu_kopa['HeartDisease']-darba_datu_kopa['HeartDisease'].min())/(darba_datu_kopa['HeartDisease'].max()-darba_datu_kopa['HeartDisease'].min())\n",
        "print(datu_kopa.head(10))\n",
        "print(datu_kopa.describe())"
      ]
    },
    {
      "cell_type": "markdown",
      "metadata": {
        "id": "yDCbYpXElxJE"
      },
      "source": [
        "Datu un faktoru vērtību vizualizācija\n",
        "---"
      ]
    },
    {
      "cell_type": "markdown",
      "metadata": {
        "id": "jMW7FTNDoSu_"
      },
      "source": [
        "### Vērtību attēlojums"
      ]
    },
    {
      "cell_type": "code",
      "execution_count": null,
      "metadata": {
        "colab": {
          "base_uri": "https://localhost:8080/",
          "height": 600
        },
        "id": "6b4Al_F3lBN6",
        "outputId": "b44dc1ac-f0dc-4421-a101-8c94b101fbec"
      },
      "outputs": [],
      "source": [
        "#Vērtību vizualizācijai tiek atlasīti tikai atribūti ar skaitliskām vērtībām nepārtrauktajā skalā\n",
        "# darba_datu_kopa_vizualizacijai = datu_kopa[[\"Age\",\"RestingBP\",\"Cholesterol\",\"FastingBS\",\"MaxHR\",\"Oldpeak\",\"HeartDisease\"]]\n",
        "darba_datu_kopa_vizualizacijai = datu_kopa[[\"MaxHR\", \"RestingBP\"]]\n",
        "darba_datu_kopa_vizualizacijai.sort_values(by='RestingBP').plot(figsize=(20,10), y='MaxHR', x='RestingBP', kind='scatter')\n",
        "#Vērtību attēlojuma izvade\n",
        "# darba_datu_kopa_vizualizacijai.plot(figsize=(20,10), x='RestingBP', y='Age')\n",
        "# darba_datu_kopa_vizualizacijai.plot(x='Age', y='Cholesterol', kind='line', color=\"purple\")"
      ]
    },
    {
      "cell_type": "markdown",
      "metadata": {
        "id": "IM1f4XeVm3EE"
      },
      "source": [
        "Vērtību attēlojums ļauj veikt šādus secinājumus:\n",
        "- kad kulmena dziļums ir lielāks par 0.4, tad kulmena garums, pleznas garums un ķermeņa masa samazinās (vērtības ir <0.4)\n",
        "- kad kulmena dziļums ir ap 0.5, tad arī kulmena garums, pleznas garums un ķermeņa masa ir ap to pašu vērtību (viss saplūst kopā)\n",
        "- kad kulmena dziļums ir mazāks par 0.4, tad kulmena garums, pleznas garums un ķermeņa masa pieaug (vērtības ir >0.4)\n",
        "- vispārīgi kulmena garums, pleznas garums un ķermeņa masa mainās kopā un, iespējams, tieši šie atribūti ļaus vislabāk atdalīt klases tālākajā klasifikācijas uzdevumā"
      ]
    },
    {
      "cell_type": "markdown",
      "metadata": {
        "id": "5VeYEROvoBth"
      },
      "source": [
        "### Histogrammu analīze"
      ]
    },
    {
      "cell_type": "code",
      "execution_count": null,
      "metadata": {
        "colab": {
          "base_uri": "https://localhost:8080/",
          "height": 821
        },
        "id": "1-N33xRhoBUV",
        "outputId": "8346eaef-30a3-4077-a020-2165ed1549a2"
      },
      "outputs": [],
      "source": [
        "#Datu kopas atribūtu histogrammu izvade\n",
        "print(datu_kopa)\n",
        "datu_kopa.hist(figsize=(14,12))"
      ]
    },
    {
      "cell_type": "markdown",
      "metadata": {
        "id": "THSM88Qvqf3d"
      },
      "source": [
        "Histogrammās redzam, ka viena no pingvīnu sugām ir mazāk pārstāvēta. Tas nozīmē, ka datu kopā pieejamās klases nav sabalansētas. Tas pats ir novērojams saistībā ar salām, no kurām pingvīni nāk: viena no tām ir mazāk pārstāvēta.\n",
        "Pie tam datu kopā ir vairāk pingvīnu ar mazāku ķermeņa masu un vairāk pingvīnu ar garāko kulmenu un vairāk pingvīnu ar mazāko pleznas garumu."
      ]
    },
    {
      "cell_type": "markdown",
      "metadata": {
        "id": "J7u0NGX8o3_q"
      },
      "source": [
        "### Izkliedes diagrammu analīze (Atribūtu savstarpējie sadalījumi)\n"
      ]
    },
    {
      "cell_type": "code",
      "execution_count": null,
      "metadata": {
        "colab": {
          "base_uri": "https://localhost:8080/",
          "height": 1000
        },
        "id": "uYaLyn6-o8dR",
        "outputId": "638c0dbc-57f2-47b2-bc3b-3b9dc23e17bc"
      },
      "outputs": [],
      "source": [
        "#Izveidojam atribūtu pāru grafiku, norādot tā kopējo izmēru  un krāsu shēmu\n",
        "paru_grafiks = sns.pairplot(darba_datu_kopa,hue='species_cat',palette=\"muted\",height=3,vars=['culmen_length_mm','culmen_depth_mm','flipper_length_mm', 'body_mass_g'],kind='scatter')\n",
        "# Papildus atstarpe, lai virsraksts tiktu attēlots pareizi\n",
        "plt.subplots_adjust(top=0.9)\n",
        "#Norādām virsrakstu grafikam\n",
        "paru_grafiks.fig.suptitle('Faktoru savstarpējās attiecības',fontsize=25,color='b',alpha=0.5)"
      ]
    },
    {
      "cell_type": "markdown",
      "metadata": {
        "id": "LVHtLRGTzUCC"
      },
      "source": [
        "Faktoru sadalījumi tiek pētīti, par pamatu izmantojot pingvīnu sugas. Grafiki ļauj secināt, ka šādi atribūtu pāri nodrošina pietiekami labu klašu atdalamību:\n",
        "*\t\"culmen_length_mm\" un \"culmen_depth_mm\" \n",
        "*\t\"culmen_length_mm\" un \"flipper_lenght_mm”\n",
        "un tos var izmantot klasifikācijas uzdevumā.\n",
        "\n",
        "Savukārt šādi atribūtu pāri nenodrošina labu klašu atdalamību:\n",
        "*\t\"culmen_length_mm\" un \"body_mass_g\": zilie datu objekti daļēji saplūst ar zaļajiem datu objektiem un labi atdalāmi ir tikai oranžie datu objekti\n",
        "*\t\"culmen_depth_mm\" un \"flipper_length_mm\": zilie datu objekti saplūst ar oranžajiem, tikai zaļie datu objekti ir labi atdalāmi\n",
        "*\t\"culmen_depth_mm\" un \"body_mass_g\": zilie datu objekti saplūst ar oranžajiem datu objektiem un tikai zaļie datu objekti ir labi atdalāmi\n",
        "*\t\"flipper_length_mm\" un \"body_mass_g\": zilie datu objekti saplūst ar oranžajiem datu objektiem un tikai zaļie datu objekti ir labi atdalāmi "
      ]
    },
    {
      "cell_type": "markdown",
      "metadata": {
        "id": "Wv6NegEAKBiW"
      },
      "source": [
        "### Atribūtu savstarpējā korelācija"
      ]
    },
    {
      "cell_type": "code",
      "execution_count": null,
      "metadata": {
        "colab": {
          "base_uri": "https://localhost:8080/",
          "height": 853
        },
        "id": "1bmQroRMKAbf",
        "outputId": "244bb5eb-a19e-4523-dd50-2e85aa571a45"
      },
      "outputs": [],
      "source": [
        "#Tiek izveidota korelācijas matrica, tajā atspoguļojot korelācijas koeficientu skaitliskiem atribūtiem\n",
        "korelacijas_matrica=darba_datu_kopa_vizualizacijai.corr(method='pearson')\n",
        "plt.figure(figsize=(20,10))\n",
        "sns.heatmap(korelacijas_matrica,vmax=1,square=True,annot=True,cmap='cubehelix')"
      ]
    },
    {
      "cell_type": "markdown",
      "metadata": {
        "id": "KtQSjfJ825HF"
      },
      "source": [
        "Korelācijas matricas analīze ļauj secināt, ka:\n",
        "* starp atribūtiem “culmen_length_mm” un “culmen_depth_mm” ir vāja negatīva korelācija\n",
        "* atribūtam “culmen_length_mm” ir vidējā pozitīvā korelācija ar atribūtiem “flipper_length_mm” un “body_mass_g”\n",
        "* atribūtam “culmen_depth_mm” ir vidējā negatīvā korelācija ar atribūtiem “flipper_length_mm” un “body_mass_g”\n",
        "* starp atribūtiem “flipper_length_mm” un “body_mass_g” ir augsta pozitīva korelācija\n",
        "\n",
        "Tādējādi saistībā ar pēdējiem diviem atribūtiem var paredzēt multikolinearitātes problēmu, kas var apgrūtināt atsevišķu mašīnmācīšanās rezultātu interpretāciju, līdz ar to tālākajā analīzē nebūtu vēlams abus šos atribūtus iekļaut."
      ]
    },
    {
      "cell_type": "markdown",
      "metadata": {
        "id": "TFMdGuLPSwAY"
      },
      "source": [
        "K-vidējo algoritms\n",
        "---\n"
      ]
    },
    {
      "cell_type": "markdown",
      "metadata": {},
      "source": [
        "## K-vidējo algoritms: Silueta koeficienta aprēķins un analīze"
      ]
    },
    {
      "cell_type": "code",
      "execution_count": null,
      "metadata": {
        "colab": {
          "base_uri": "https://localhost:8080/",
          "height": 552
        },
        "id": "ucnk0MnwSytW",
        "outputId": "be647856-2594-411a-a15d-89a15045e6b3"
      },
      "outputs": [],
      "source": [
        "# Nepieciešamo bibliotēku ielāde\n",
        "import pandas as pd\n",
        "import matplotlib.pyplot as plt\n",
        "from sklearn.cluster import KMeans\n",
        "from sklearn import metrics\n",
        "\n",
        "# Datu ielāde\n",
        "darba_datu_kopa = pd.read_csv('../dataset/filtered_heart.csv')  # Vai pielāgo ceļu atbilstoši savam failu izvietojumam\n",
        "\n",
        "# Apskati kolonnu nosaukumus, lai zinātu, ko vari izmantot\n",
        "print(darba_datu_kopa.columns)\n",
        "\n",
        "# Izvēlies piemērotas 3 pazīmes (pielāgo pēc vajadzības)\n",
        "darba_datu_kopa_klasterizacijai_3_pazimes = darba_datu_kopa[['Age', 'Cholesterol', 'MaxHR']]\n",
        "\n",
        "# Silueta koeficientu saraksts\n",
        "Silueta_koeficienti = []\n",
        "\n",
        "# Pārbauda 5 dažādas k vērtības (2 līdz 6)\n",
        "for i in range(2, 7):\n",
        "    kmeans_modelis = KMeans(n_clusters=i, init=\"k-means++\", random_state=42)\n",
        "    kmeans_modelis.fit(darba_datu_kopa_klasterizacijai_3_pazimes)\n",
        "    score = metrics.silhouette_score(darba_datu_kopa_klasterizacijai_3_pazimes, kmeans_modelis.labels_)\n",
        "    Silueta_koeficienti.append(score)\n",
        "\n",
        "# Silueta koeficientu grafiks\n",
        "plt.figure(figsize=(6, 4))\n",
        "plt.plot(range(2, 7), Silueta_koeficienti, marker='o')\n",
        "plt.xlabel('Klasteru skaits (K)')\n",
        "plt.ylabel('Silueta koeficients')\n",
        "plt.title('Silueta koeficienti dažādiem K')\n",
        "plt.grid(True)\n",
        "plt.show()\n",
        "\n",
        "# Izdrukā rezultātus tabulā\n",
        "print(\"Silueta koeficienti:\")\n",
        "for i, s in enumerate(Silueta_koeficienti, start=2):\n",
        "    print(f\"K = {i}: Silueta koeficients = {s:.4f}\")\n",
        "\n",
        "# Atrod optimālo K\n",
        "labakais_k = range(2, 7)[Silueta_koeficienti.index(max(Silueta_koeficienti))]\n",
        "print(f\"\\n🔍 Optimālais klasteru skaits pēc Silueta koeficienta: K = {labakais_k}\")\n"
      ]
    },
    {
      "cell_type": "markdown",
      "metadata": {},
      "source": [
        "\n",
        "\n",
        "Šajā eksperimentā tika pielietots K-vidējo algoritms (K-means), lai novērtētu datu kopas iekšējo struktūru, izmantojot trīs atribūtus: `Age`, `Cholesterol` un `MaxHR`. Algoritmam tika piemērotas piecas dažādas klasteru skaita (`k`) vērtības no 2 līdz 6. Katram `k` tika aprēķināts Silueta koeficients, kas norāda, cik labi katrs datu punkts atbilst savam klasterim salīdzinājumā ar citiem klasteriem.\n",
        "\n",
        "Rezultāti tika attēloti grafikā, kur redzama Silueta koeficienta izmaiņa atkarībā no `k`. Pēc aprēķiniem noteikts, ka visaugstākais Silueta koeficients tika iegūts pie `k = X`, kas tiek uzskatīts par optimālo klasteru skaitu šai datu kopai. (❗Lūdzu, aizvieto **X** ar reālo vērtību no izdrukas.)\n",
        "\n",
        "Šī pieeja ļauj novērtēt datu sadalījumu un potenciāli identificēt dabiskās grupas bez iepriekšējām zināšanām par klasēm.\n"
      ]
    },
    {
      "cell_type": "markdown",
      "metadata": {},
      "source": [
        "## K-vidējo algoritma vizualizācija ar k = 2"
      ]
    },
    {
      "cell_type": "code",
      "execution_count": null,
      "metadata": {
        "colab": {
          "base_uri": "https://localhost:8080/",
          "height": 485
        },
        "id": "Y8NojgJUS1j_",
        "outputId": "9897abd7-2c5f-4f3b-d31b-0c1507f1ca62"
      },
      "outputs": [],
      "source": [
        "import matplotlib.pyplot as plt\n",
        "from sklearn.cluster import KMeans\n",
        "\n",
        "# Pieņemam, ka dati jau atlasīti iepriekš\n",
        "# dati_klasterizacijai = darba_datu_kopa[['Age', 'Cholesterol', 'MaxHR']]\n",
        "\n",
        "# Apmācām KMeans ar 2 klasteriem\n",
        "dati_klasterizacijai = darba_datu_kopa[['Age', 'Cholesterol', 'MaxHR']]\n",
        "\n",
        "kmeans_modelis = KMeans(n_clusters=2, init=\"k-means++\", random_state=42).fit(dati_klasterizacijai)\n",
        "centroids = kmeans_modelis.cluster_centers_\n",
        "ypred = kmeans_modelis.predict(dati_klasterizacijai)\n",
        "\n",
        "# Zīmējam izkliedes diagrammas\n",
        "plt.figure(figsize=(12, 10))\n",
        "\n",
        "plt.subplot(2, 2, 1)\n",
        "plt.title(\"Age vs Cholesterol\")\n",
        "plt.scatter(dati_klasterizacijai['Age'], dati_klasterizacijai['Cholesterol'], c=ypred, s=10)\n",
        "plt.xlabel(\"Age\")\n",
        "plt.ylabel(\"Cholesterol\")\n",
        "\n",
        "plt.subplot(2, 2, 2)\n",
        "plt.title(\"Age vs MaxHR\")\n",
        "plt.scatter(dati_klasterizacijai['Age'], dati_klasterizacijai['MaxHR'], c=ypred, s=10)\n",
        "plt.xlabel(\"Age\")\n",
        "plt.ylabel(\"MaxHR\")\n",
        "\n",
        "plt.subplot(2, 2, 3)\n",
        "plt.title(\"Cholesterol vs MaxHR\")\n",
        "plt.scatter(dati_klasterizacijai['Cholesterol'], dati_klasterizacijai['MaxHR'], c=ypred, s=10)\n",
        "plt.xlabel(\"Cholesterol\")\n",
        "plt.ylabel(\"MaxHR\")\n",
        "\n",
        "plt.tight_layout()\n",
        "plt.show()\n"
      ]
    },
    {
      "cell_type": "markdown",
      "metadata": {},
      "source": [
        "Lai labāk izprastu datu struktūru un to sadalījumu klasteros, tika veikta datu vizualizācija, izmantojot K-means algoritmu ar klasteru skaitu `k = 2`. Tika izveidotas trīs izkliedes diagrammas, attēlojot dažādus atribūtu pārus: `Age vs Cholesterol`, `Age vs MaxHR`, un `Cholesterol vs MaxHR`.\n",
        "\n",
        "Katrā diagrammā datu punkti ir iekrāsoti atbilstoši tam, kuram klasterim tie piešķirti. Vizualizācijas mērķis ir novērtēt klasteru robežas un to sadalījuma skaidrību. Rezultātos redzams, ka klasteri daļēji pārklājas, tomēr dažās dimensijās iezīmējas atšķirīgas grupas, kas var norādīt uz iespējamu sadalījumu pēc vecuma, holesterīna līmeņa vai maksimālā pulsa.\n",
        "\n",
        "Šāda vizualizācija palīdz kvalitatīvi novērtēt K-means algoritma rezultātus un to atbilstību datu kopas iekšējai struktūrai.\n"
      ]
    },
    {
      "cell_type": "markdown",
      "metadata": {
        "id": "EYP9MLdGVLzP"
      },
      "source": [
        "Hierarhiskā aglomeratīvā klasterēšana\n",
        "---"
      ]
    },
    {
      "cell_type": "markdown",
      "metadata": {},
      "source": [
        "## Hierarhiskās klasterizācijas modeļa izveide"
      ]
    },
    {
      "cell_type": "code",
      "execution_count": null,
      "metadata": {
        "id": "vCIopfI-VLhp"
      },
      "outputs": [],
      "source": [
        "#algoritma izmantošanai nepieciešamās bibliotēkas ielāde\n",
        "from sklearn.cluster import AgglomerativeClustering\n",
        "#algoritma modeļa izveide, par pamatu izmantojot datu apakškopu ar 3 atribūtiem\n",
        "clustering = AgglomerativeClustering().fit(darba_datu_kopa_klasterizacijai_3_pazimes)"
      ]
    },
    {
      "cell_type": "markdown",
      "metadata": {},
      "source": [
        "\n",
        "\n",
        "Šajā posmā tika izveidots hierarhiskās aglomeratīvās klasterizācijas modelis, izmantojot trīs atribūtus: `Age`, `Cholesterol` un `MaxHR`. Tika pielietota `AgglomerativeClustering` klase no `sklearn` bibliotēkas ar noklusējuma parametriem (`n_clusters=2`, `linkage='ward'`), kas ļauj pakāpeniski apvienot līdzīgākos datu punktus vienā klasterī.\n",
        "\n",
        "Lai gan šī koda izpilde ļauj iegūt klasteru iedalījumu, tā nenodrošina vizualizāciju vai rezultātu interpretāciju. Tāpēc nākamajā solī tiks izveidota dendrogramma, kas palīdzēs labāk izprast klasteru veidošanās procesu un noteikt iespējamo klasteru skaitu.\n"
      ]
    },
    {
      "cell_type": "markdown",
      "metadata": {},
      "source": [
        "## Dendrogrammas izveide un analīze"
      ]
    },
    {
      "cell_type": "code",
      "execution_count": null,
      "metadata": {
        "colab": {
          "base_uri": "https://localhost:8080/",
          "height": 189
        },
        "id": "1pJU-YlgVPgZ",
        "outputId": "704d0468-08cf-468a-e979-89ab8fc8136d"
      },
      "outputs": [],
      "source": [
        "#dendrogrammas atspoguļošanai nepieciešamās bibliotēkas ielāde\n",
        "import scipy.cluster.hierarchy as shc\n",
        "#dendrogrammas izvade, par pamatu izmantojot saistīšanas metodi \"ward\"\n",
        "plt.figure(figsize =(16, 6))\n",
        "plt.title('Aglomeratīvās klasterēšanas dendrogramma')\n",
        "Dendrogram = shc.dendrogram((shc.linkage(darba_datu_kopa_klasterizacijai_3_pazimes, method ='ward')))"
      ]
    },
    {
      "cell_type": "markdown",
      "metadata": {},
      "source": [
        "\n",
        "\n",
        "Lai vizualizētu datu apvienošanās procesu hierarhiskajā klasterizācijā, tika izveidota dendrogramma, izmantojot `scipy.cluster.hierarchy.dendrogram` funkciju. Kā saistīšanas metode tika izmantota `ward`, kas apvieno klasterus, minimizējot kopējo kvadrātattālumu starp tiem.\n",
        "\n",
        "Dendrogramma ļauj noteikt iespējamo klasteru skaitu, ievērojot, cik lielas vertikālās distances veidojas starp apvienojumiem. Piemēram, novilkt horizontālu griešanas līniju konkrētā augstumā ļauj sadalīt datu kopu noteiktā klasteru skaitā. Šajā gadījumā, vizuāli analizējot dendrogrammu, tiek ieteikts tālāk veikt eksperimentus ar 2, 3 un 4 klasteriem.\n"
      ]
    },
    {
      "cell_type": "markdown",
      "metadata": {},
      "source": [
        "## Klasteru eksperimenti ar dažādiem n vērtībām"
      ]
    },
    {
      "cell_type": "code",
      "execution_count": null,
      "metadata": {},
      "outputs": [],
      "source": [
        "from sklearn.cluster import AgglomerativeClustering\n",
        "import pandas as pd\n",
        "\n",
        "# Eksperimenti ar dažādiem klasteru skaitiem\n",
        "for n in [2, 3, 4]:\n",
        "    modelis = AgglomerativeClustering(n_clusters=n, linkage='ward')\n",
        "    etiketes = modelis.fit_predict(darba_datu_kopa_klasterizacijai_3_pazimes)\n",
        "    print(f\"\\n🔹 Klasteru skaits: {n}\")\n",
        "    print(pd.Series(etiketes).value_counts())\n"
      ]
    },
    {
      "cell_type": "markdown",
      "metadata": {},
      "source": [
        "\n",
        "\n",
        "Lai novērtētu, kā mainās datu sadalījums dažādos klasteru līmeņos, tika veikti trīs eksperimenti, mainot `n_clusters` vērtību uz 2, 3 un 4. Visos gadījumos tika izmantota `ward` saistīšanas metode. Katram eksperimentam tika aprēķināts, cik objektu ir piešķirti katram klasterim.\n",
        "\n",
        "Šī pieeja ļauj izvērtēt klasterizācijas jēgpilnumu — ja viens no klasteriem satur ievērojami vairāk objektu nekā pārējie, tas var norādīt uz nevienmērīgu datu sadalījumu. Savukārt līdzsvaroti klasteri pie noteikta `n` var liecināt par labu datu struktūras atbilstību šādam sadalījumam.\n",
        "\n",
        "Rezultātu interpretācija tika izmantota, lai izvēlētos piemērotākos klasteru variantus tālākai vizualizācijai.\n"
      ]
    },
    {
      "cell_type": "markdown",
      "metadata": {},
      "source": [
        "## Klasterizācijas vizualizācija (Hierarhiskā metode, n = 2)"
      ]
    },
    {
      "cell_type": "code",
      "execution_count": null,
      "metadata": {},
      "outputs": [],
      "source": [
        "import matplotlib.pyplot as plt\n",
        "\n",
        "# Modeļa apmācība ar 2 klasteriem\n",
        "modelis = AgglomerativeClustering(n_clusters=2, linkage='ward')\n",
        "ypred = modelis.fit_predict(darba_datu_kopa_klasterizacijai_3_pazimes)\n",
        "\n",
        "# Izkliedes diagrammas\n",
        "plt.figure(figsize=(12, 10))\n",
        "\n",
        "plt.subplot(2, 2, 1)\n",
        "plt.title(\"Age vs Cholesterol\")\n",
        "plt.scatter(darba_datu_kopa_klasterizacijai_3_pazimes['Age'], darba_datu_kopa_klasterizacijai_3_pazimes['Cholesterol'], c=ypred, s=10)\n",
        "plt.xlabel(\"Age\")\n",
        "plt.ylabel(\"Cholesterol\")\n",
        "\n",
        "plt.subplot(2, 2, 2)\n",
        "plt.title(\"Age vs MaxHR\")\n",
        "plt.scatter(darba_datu_kopa_klasterizacijai_3_pazimes['Age'], darba_datu_kopa_klasterizacijai_3_pazimes['MaxHR'], c=ypred, s=10)\n",
        "plt.xlabel(\"Age\")\n",
        "plt.ylabel(\"MaxHR\")\n",
        "\n",
        "plt.subplot(2, 2, 3)\n",
        "plt.title(\"Cholesterol vs MaxHR\")\n",
        "plt.scatter(darba_datu_kopa_klasterizacijai_3_pazimes['Cholesterol'], darba_datu_kopa_klasterizacijai_3_pazimes['MaxHR'], c=ypred, s=10)\n",
        "plt.xlabel(\"Cholesterol\")\n",
        "plt.ylabel(\"MaxHR\")\n",
        "\n",
        "plt.tight_layout()\n",
        "plt.show()\n"
      ]
    },
    {
      "cell_type": "markdown",
      "metadata": {},
      "source": [
        "\n",
        "\n",
        "Lai ilustrētu datu sadalījumu, tika attēlotas izkliedes diagrammas trīs plaknēs: `Age vs Cholesterol`, `Age vs MaxHR` un `Cholesterol vs MaxHR`. Katrs datu punkts ir iekrāsots atbilstoši klasterim, kurā tas nokļuvis, izmantojot hierarhiskās aglomeratīvās klasterizācijas algoritmu ar `n = 2` un `ward` saistīšanas metodi.\n",
        "\n",
        "Diagrammas palīdz vizuāli novērtēt, cik labi dati grupējas. Šajā gadījumā novērojams, ka divas galvenās grupas izceļas dažās pazīmju kombinācijās, bet citās tās ir pārklājušās. Tas norāda, ka dati nav pilnībā nošķirti, tomēr daļēji strukturēti.\n"
      ]
    },
    {
      "cell_type": "markdown",
      "metadata": {},
      "source": [
        "## Hierarhiskās klasterizācijas rezultātu vizualizācija"
      ]
    },
    {
      "cell_type": "code",
      "execution_count": null,
      "metadata": {},
      "outputs": [],
      "source": [
        "import matplotlib.pyplot as plt\n",
        "from sklearn.cluster import AgglomerativeClustering\n",
        "\n",
        "# Saraksts ar klasteru skaitu, ko testēsim\n",
        "klasteru_skaits = [2, 3, 4]\n",
        "\n",
        "# Izveido grafiku (3 rindas x 3 kolonnas: katrs klasteru skaits savās 3 plaknēs)\n",
        "plt.figure(figsize=(15, 12))\n",
        "\n",
        "# Aizpilda attēlus katram n_clusters\n",
        "plot_index = 1\n",
        "for n in klasteru_skaits:\n",
        "    modelis = AgglomerativeClustering(n_clusters=n, linkage='ward')\n",
        "    ypred = modelis.fit_predict(darba_datu_kopa_klasterizacijai_3_pazimes)\n",
        "\n",
        "    # Age vs Cholesterol\n",
        "    plt.subplot(len(klasteru_skaits), 3, plot_index)\n",
        "    plt.title(f\"{n} klasteri: Age vs Cholesterol\")\n",
        "    plt.scatter(darba_datu_kopa_klasterizacijai_3_pazimes['Age'],\n",
        "                darba_datu_kopa_klasterizacijai_3_pazimes['Cholesterol'],\n",
        "                c=ypred, s=10)\n",
        "    plt.xlabel(\"Age\")\n",
        "    plt.ylabel(\"Cholesterol\")\n",
        "    plot_index += 1\n",
        "\n",
        "    # Age vs MaxHR\n",
        "    plt.subplot(len(klasteru_skaits), 3, plot_index)\n",
        "    plt.title(f\"{n} klasteri: Age vs MaxHR\")\n",
        "    plt.scatter(darba_datu_kopa_klasterizacijai_3_pazimes['Age'],\n",
        "                darba_datu_kopa_klasterizacijai_3_pazimes['MaxHR'],\n",
        "                c=ypred, s=10)\n",
        "    plt.xlabel(\"Age\")\n",
        "    plt.ylabel(\"MaxHR\")\n",
        "    plot_index += 1\n",
        "\n",
        "    # Cholesterol vs MaxHR\n",
        "    plt.subplot(len(klasteru_skaits), 3, plot_index)\n",
        "    plt.title(f\"{n} klasteri: Cholesterol vs MaxHR\")\n",
        "    plt.scatter(darba_datu_kopa_klasterizacijai_3_pazimes['Cholesterol'],\n",
        "                darba_datu_kopa_klasterizacijai_3_pazimes['MaxHR'],\n",
        "                c=ypred, s=10)\n",
        "    plt.xlabel(\"Cholesterol\")\n",
        "    plt.ylabel(\"MaxHR\")\n",
        "    plot_index += 1\n",
        "\n",
        "plt.tight_layout()\n",
        "plt.show()\n"
      ]
    },
    {
      "cell_type": "markdown",
      "metadata": {},
      "source": [
        "Lai labāk izprastu hierarhiskās klasterizācijas rezultātus un novērtētu klasteru veidošanās loģiku, tika izveidotas izkliedes diagrammas visiem trim eksperimentiem (`n = 2`, `3`, `4`). Katrai `n` vērtībai dati tika attēloti trīs plaknēs: `Age vs Cholesterol`, `Age vs MaxHR`, un `Cholesterol vs MaxHR`.\n",
        "\n",
        "Diagrammās katrs punkts ir iekrāsots atbilstoši tam, kuram klasterim tas piešķirts attiecīgajā klasterizācijas eksperimentā. Šāda vizualizācija palīdz novērtēt, cik skaidri klasteri nošķiras viens no otra un vai to robežas ir loģiski pamatotas.\n",
        "\n",
        "Novērojams, ka, palielinot klasteru skaitu, klasteru robežas kļūst detalizētākas, tomēr arī daļēji pārklājas. Tas var norādīt uz datu struktūras sarežģītību un ierobežotu dabisko grupēšanos tikai pēc trīs pazīmēm.\n"
      ]
    },
    {
      "cell_type": "markdown",
      "metadata": {
        "id": "7xKXf16cWW0g"
      },
      "source": [
        "Mākslīgo neironu tīkli\n",
        "---"
      ]
    },
    {
      "cell_type": "code",
      "execution_count": 15,
      "metadata": {},
      "outputs": [
        {
          "name": "stdout",
          "output_type": "stream",
          "text": [
            "          Age  RestingBP  Cholesterol  FastingBS     MaxHR   Oldpeak  \\\n",
            "0    0.244898   0.444444     0.393822        0.0  0.774436  0.015873   \n",
            "1    0.428571   0.629630     0.183398        0.0  0.654135  0.174603   \n",
            "2    0.183673   0.351852     0.382239        0.0  0.218045  0.015873   \n",
            "3    0.408163   0.425926     0.249035        0.0  0.293233  0.253968   \n",
            "4    0.530612   0.537037     0.212355        0.0  0.398496  0.015873   \n",
            "..        ...        ...          ...        ...       ...       ...   \n",
            "741  0.346939   0.166667     0.345560        0.0  0.473684  0.206349   \n",
            "742  0.816327   0.481481     0.208494        1.0  0.541353  0.555556   \n",
            "743  0.591837   0.351852     0.088803        0.0  0.345865  0.206349   \n",
            "744  0.591837   0.351852     0.291506        0.0  0.789474  0.015873   \n",
            "745  0.204082   0.425926     0.173745        0.0  0.781955  0.015873   \n",
            "\n",
            "     HeartDisease  Sex_cat  ChestPainType_cat  RestingECG_cat  \\\n",
            "0             0.0        1                  1               1   \n",
            "1             1.0        0                  2               1   \n",
            "2             0.0        1                  1               2   \n",
            "3             1.0        0                  0               1   \n",
            "4             0.0        1                  2               1   \n",
            "..            ...      ...                ...             ...   \n",
            "741           1.0        1                  3               1   \n",
            "742           1.0        1                  0               1   \n",
            "743           1.0        1                  0               1   \n",
            "744           1.0        0                  1               0   \n",
            "745           0.0        1                  2               1   \n",
            "\n",
            "     ExerciseAngina_cat  ST_Slope_cat  \n",
            "0                     0             2  \n",
            "1                     0             1  \n",
            "2                     0             2  \n",
            "3                     1             1  \n",
            "4                     0             2  \n",
            "..                  ...           ...  \n",
            "741                   0             1  \n",
            "742                   0             1  \n",
            "743                   1             1  \n",
            "744                   0             1  \n",
            "745                   0             2  \n",
            "\n",
            "[746 rows x 12 columns]\n"
          ]
        }
      ],
      "source": [
        "print(darba_datu_kopa)"
      ]
    },
    {
      "cell_type": "code",
      "execution_count": null,
      "metadata": {},
      "outputs": [
        {
          "name": "stderr",
          "output_type": "stream",
          "text": [
            "/home/codespace/.local/lib/python3.12/site-packages/sklearn/neural_network/_multilayer_perceptron.py:1124: DataConversionWarning: A column-vector y was passed when a 1d array was expected. Please change the shape of y to (n_samples, ), for example using ravel().\n",
            "  y = column_or_1d(y, warn=True)\n"
          ]
        },
        {
          "name": "stdout",
          "output_type": "stream",
          "text": [
            "              precision    recall  f1-score   support\n",
            "\n",
            "         0.0       0.76      0.81      0.79       111\n",
            "         1.0       0.80      0.75      0.78       113\n",
            "\n",
            "    accuracy                           0.78       224\n",
            "   macro avg       0.78      0.78      0.78       224\n",
            "weighted avg       0.78      0.78      0.78       224\n",
            "\n"
          ]
        },
        {
          "data": {
            "image/png": "[encoded data removed]",
            "text/plain": [
              "<Figure size 700x400 with 2 Axes>"
            ]
          },
          "metadata": {},
          "output_type": "display_data"
        }
      ],
      "source": [
        "#bibliotēkas ielāde datu sadalīšanai apmācības un testa datu kopās\n",
        "from sklearn.model_selection import train_test_split\n",
        "from sklearn.neural_network import MLPClassifier\n",
        "import matplotlib.pyplot as plt\n",
        "from sklearn.cluster import AgglomerativeClustering\n",
        "from sklearn.metrics import classification_report\n",
        "import pylab as pltb\n",
        "\n",
        "def createNeuralNetwork(izejasName):\n",
        "    #atsevišķajā mainīgajā saglabājam datu objektu izeju vērtības, t.i. \"pingvīnu sugas\"\n",
        "    izejas = darba_datu_kopa[[izejasName]]\n",
        "    #uzdodam datu objektu proporciju, kuri veidos apmācības datu kopu (70%)\n",
        "    apmacibas_datu_proporcija = 0.7\n",
        "    #tiek veikta datu kopas sadalīšana testa un apmācības kopā, izmantojot nejaušu sadalījumu ar attecību 70:30\n",
        "    # darba_datu_kopa_klasterizacijai_3_pazimes = darba_datu_kopa[['Age','MaxHR','Oldpeak']]\n",
        "    X_apmacibas, X_testa, y_apmacibas, y_testa = train_test_split(darba_datu_kopa[[\"Age\",\"RestingBP\",\"Cholesterol\", 'MaxHR', 'Oldpeak']], izejas, test_size=1.0 - apmacibas_datu_proporcija, random_state=42)\n",
        "\n",
        "    #izveidojam mākslīgo neironu tīkla modeli ar 5 neironiem vienā slēptajā slānī\n",
        "    #Tiek uzdoti šādi parametri: maksimālais apmācības iterāciju skaits ir 50, aktivizācijas funkcija ir loģistiskā, \n",
        "    #svaru piemeklēšanas metode ir stohastiskais gradienta krītums, mācīšanās ātrums 0.2 un bez apmācības iterāciju izvades\n",
        "    neironu_tikla_modelis_1_slanis = MLPClassifier(hidden_layer_sizes=(10), max_iter=1000, activation = 'logistic', solver='sgd', learning_rate_init = 0.8, random_state=42)\n",
        "    #izveidotajam modelim tiek padotas apmācības datu kopas pazīmju vērtības un īstās izejas\n",
        "    neironu_tikla_modelis_1_slanis.fit(X_apmacibas, y_apmacibas)\n",
        "\n",
        "    y_prognoze_1_slanis = neironu_tikla_modelis_1_slanis.predict(X_testa)\n",
        "    print(classification_report(y_testa,y_prognoze_1_slanis, zero_division=0))\n",
        "    kludu_matrica = confusion_matrix(y_testa, y_prognoze_1_slanis)\n",
        "    fig, ax = pltb.subplots(figsize=(7,4))\n",
        "    sns.heatmap(kludu_matrica, annot = True, fmt = 'g', ax = ax);\n",
        "    ax.set_xlabel('Prognozētas klašu iezīmes');\n",
        "    ax.set_ylabel('Īstās klašu iezīmes');\n",
        "    ax.set_title('Kļūdu matrica ' + izejasName + ' 2');\n",
        "\n",
        "for izejas in darba_datu_kopa[[\"HeartDisease\"]]:\n",
        "    createNeuralNetwork(izejas)"
      ]
    },
    {
      "cell_type": "code",
      "execution_count": null,
      "metadata": {
        "id": "na-ws_mdWbeY"
      },
      "outputs": [],
      "source": [
        "#bibliotēkas ielāde datu sadalīšanai apmācības un testa datu kopās\n",
        "from sklearn.model_selection import train_test_split\n",
        "#atsevišķajā mainīgajā saglabājam datu objektu izeju vērtības, t.i. \"pingvīnu sugas\"\n",
        "a = darba_datu_kopa[[\"Age\",\"RestingBP\",\"Cholesterol\",\"MaxHR\"]]\n",
        "# print(a)\n",
        "# izejas = darba_datu_kopa[['Age']]\n",
        "izejas = darba_datu_kopa[['ChestPainType_cat']]\n",
        "# print(darba_datu_kopa['Age'])\n",
        "# print(izejas)\n",
        "#uzdodam datu objektu proporciju, kuri veidos apmācības datu kopu (70%)\n",
        "apmacibas_datu_proporcija = 0.7\n",
        "#tiek veikta datu kopas sadalīšana testa un apmācības kopā, izmantojot nejaušu sadalījumu ar attecību 70:30\n",
        "# darba_datu_kopa_klasterizacijai_3_pazimes = darba_datu_kopa[['Age','MaxHR','Oldpeak']]\n",
        "X_apmacibas, X_testa, y_apmacibas, y_testa = train_test_split(darba_datu_kopa[[\"Age\",\"RestingBP\",\"Cholesterol\"]], izejas, test_size=1.0 - apmacibas_datu_proporcija, random_state=42)"
      ]
    },
    {
      "cell_type": "markdown",
      "metadata": {
        "id": "HAtyuWi9WeTx"
      },
      "source": [
        "####**1.modelis** - 2 slāņi ar 100 neironiem katrā"
      ]
    },
    {
      "cell_type": "code",
      "execution_count": null,
      "metadata": {
        "colab": {
          "base_uri": "https://localhost:8080/",
          "height": 491
        },
        "id": "6P6eJVgnWgPx",
        "outputId": "d0a5480c-53df-4b88-fda7-ee11419e8b8e"
      },
      "outputs": [],
      "source": [
        "#algoritma izmantošanai nepieciešamās bibliotēkas ielāde\n",
        "from sklearn.neural_network import MLPClassifier\n",
        "#izveidojam mākslīgo neironu tīkla modeli ar 2 slāņiem, katrā no kuriem ir 100 neironi\n",
        "#Tiek uzdoti šādi parametri: maksimālais apmācības iterāciju skaits ir 1000, aktivizācijas funkcija ir loģistiskā, \n",
        "#svaru piemeklēšanas metode ir stohastiskais gradienta krītums, mācīšanās ātrums 0.1 un apmācības iterāciju izvade\n",
        "# print(X_apmacibas)\n",
        "# print(y_apmacibas.index)\n",
        "neironu_tikla_modelis = MLPClassifier(hidden_layer_sizes=(100,100), max_iter=1000, activation = 'logistic', solver='sgd', learning_rate_init = 0.1, verbose = 1)\n",
        "# print(neironu_tikla_modelis)\n",
        "#izveidotajam modelim tiek padotas apmācības datu kopas pazīmju vērtības un īstās izejas\n",
        "neironu_tikla_modelis.fit(X_apmacibas, y_apmacibas)"
      ]
    },
    {
      "cell_type": "code",
      "execution_count": null,
      "metadata": {
        "colab": {
          "base_uri": "https://localhost:8080/",
          "height": 585
        },
        "id": "ocgAl59JWlIw",
        "outputId": "c13c8292-3cd8-47c8-9433-4b9736987dd2"
      },
      "outputs": [],
      "source": [
        "#bibliotēku pievienošana algoritma veikuma novērtēšanai un izvadei\n",
        "from sklearn.metrics import classification_report, confusion_matrix, ConfusionMatrixDisplay\n",
        "import pylab as pltb\n",
        "#izmantojam apmācīto modeli ar testa kopu, lai iegūtu prognozes\n",
        "y_prognoze = neironu_tikla_modelis.predict(X_testa)\n",
        "#izvadām modeļa veikuma novērtējuma metrikas\n",
        "# print(y_testa)\n",
        "# print(y_prognoze)\n",
        "print(classification_report(y_testa,y_prognoze, zero_division=0))\n",
        "#veidojam kļūdu matricu\n",
        "kludu_matrica = confusion_matrix(y_testa, y_prognoze)\n",
        "#izvadām kļūdu matricu\n",
        "fig, ax = pltb.subplots(figsize=(7,4))\n",
        "sns.heatmap(kludu_matrica, annot = True, fmt = 'g', ax = ax);\n",
        "ax.set_xlabel('Prognozētas klašu iezīmes');\n",
        "ax.set_ylabel('Īstās klašu iezīmes');\n",
        "ax.set_title('Kļūdu matrica');\n",
        "ax.xaxis.set_ticklabels(datu_kopa['ChestPainType'].unique());\n",
        "ax.yaxis.set_ticklabels(datu_kopa['ChestPainType'].unique());"
      ]
    },
    {
      "cell_type": "markdown",
      "metadata": {
        "id": "ww0GqtmuWoJh"
      },
      "source": [
        "Kļūdu matricā var redzēt, ka 54 datu objekti tika klasificēti nepareizi, līdz ar to kopējā tīkla precizitāte ir diezgan maza - 48%."
      ]
    },
    {
      "cell_type": "markdown",
      "metadata": {
        "id": "_aNzXSphW-NA"
      },
      "source": [
        "####**2.modelis** -viens slānis ar 5 neironiem "
      ]
    },
    {
      "cell_type": "code",
      "execution_count": null,
      "metadata": {
        "colab": {
          "base_uri": "https://localhost:8080/",
          "height": 146
        },
        "id": "oKL7KHRsW_9o",
        "outputId": "58dbe63a-c887-4aee-99e9-f28db288c1fb"
      },
      "outputs": [],
      "source": [
        "#izveidojam mākslīgo neironu tīkla modeli ar 5 neironiem vienā slēptajā slānī\n",
        "#Tiek uzdoti šādi parametri: maksimālais apmācības iterāciju skaits ir 50, aktivizācijas funkcija ir loģistiskā, \n",
        "#svaru piemeklēšanas metode ir stohastiskais gradienta krītums, mācīšanās ātrums 0.2 un bez apmācības iterāciju izvades\n",
        "neironu_tikla_modelis_1_slanis = MLPClassifier(hidden_layer_sizes=(5), max_iter=50, activation = 'logistic', solver='sgd', learning_rate_init = 0.2, verbose = 0)\n",
        "#izveidotajam modelim tiek padotas apmācības datu kopas pazīmju vērtības un īstās izejas\n",
        "neironu_tikla_modelis_1_slanis.fit(X_apmacibas, y_apmacibas)"
      ]
    },
    {
      "cell_type": "code",
      "execution_count": null,
      "metadata": {
        "colab": {
          "base_uri": "https://localhost:8080/",
          "height": 585
        },
        "id": "e32LRJutXBa4",
        "outputId": "6c044851-f4d4-4854-f997-4025ec7ba07d"
      },
      "outputs": [],
      "source": [
        "y_prognoze_1_slanis = neironu_tikla_modelis_1_slanis.predict(X_testa)\n",
        "print(classification_report(y_testa,y_prognoze_1_slanis, zero_division=0))\n",
        "kludu_matrica = confusion_matrix(y_testa, y_prognoze_1_slanis)\n",
        "fig, ax = pltb.subplots(figsize=(7,4))\n",
        "sns.heatmap(kludu_matrica, annot = True, fmt = 'g', ax = ax);\n",
        "ax.set_xlabel('Prognozētas klašu iezīmes');\n",
        "ax.set_ylabel('Īstās klašu iezīmes');\n",
        "ax.set_title('Kļūdu matrica');\n",
        "ax.xaxis.set_ticklabels(datu_kopa['ChestPainType'].unique());\n",
        "ax.yaxis.set_ticklabels(datu_kopa['ChestPainType'].unique());"
      ]
    },
    {
      "cell_type": "markdown",
      "metadata": {
        "id": "zfPyEcRIYubQ"
      },
      "source": [
        "Kļūdu matricā var redzēt, ka tikai 4 datu objekti tika klasificēti nepareizi, līdz ar to kopējā tīkla precizitāte ir diezgan augsta - 96%.\n",
        "Tādējādi šis modelis ir labāks par iepriekšējo"
      ]
    },
    {
      "cell_type": "markdown",
      "metadata": {
        "id": "MAldyTQbMyt0"
      },
      "source": [
        "kNN algoritms\n",
        "---"
      ]
    },
    {
      "cell_type": "code",
      "execution_count": null,
      "metadata": {
        "colab": {
          "base_uri": "https://localhost:8080/",
          "height": 74
        },
        "id": "I5NAc-q8XWDn",
        "outputId": "ad945eb3-b3b9-424a-855a-21608756a56a"
      },
      "outputs": [],
      "source": [
        "#algoritma izmantošanai nepieciešamās bibliotēkas ielāde\n",
        "from sklearn.neighbors import KNeighborsClassifier\n",
        "#Tiek izveidots algoritma modelis ar 5 kaimiņiem\n",
        "KNN_MODEL = KNeighborsClassifier(n_neighbors=5)\n",
        "#Padodam izveidotajam modelim apmācības datu kopu\n",
        "KNN_MODEL.fit(X_apmacibas, y_apmacibas)"
      ]
    },
    {
      "cell_type": "code",
      "execution_count": null,
      "metadata": {
        "colab": {
          "base_uri": "https://localhost:8080/",
          "height": 585
        },
        "id": "OLRi5vSFXaXY",
        "outputId": "07ad8f33-9ea3-42d4-9fca-9e6cea1cbca1"
      },
      "outputs": [],
      "source": [
        "#Nosakam klases iezīmes testa datu kopas datu objektiem\n",
        "y_prognoze_knn = KNN_MODEL.predict(X_testa)\n",
        "#izvadām modeļa veikuma novērtējuma metrikas\n",
        "print(classification_report(y_testa,y_prognoze_knn, zero_division=0))\n",
        "#veidojam kļūdu matricu\n",
        "kludu_matrica = confusion_matrix(y_testa, y_prognoze_knn)\n",
        "#izvadām kļūdu matricu\n",
        "fig, ax = pltb.subplots(figsize=(7,4))\n",
        "sns.heatmap(kludu_matrica, annot = True, fmt = 'g', ax = ax);\n",
        "ax.set_xlabel('Prognozētas klašu iezīmes');\n",
        "ax.set_ylabel('Īstās klašu iezīmes');\n",
        "ax.set_title('Kļūdu matrica');\n",
        "ax.xaxis.set_ticklabels(datu_kopa['species'].unique());\n",
        "ax.yaxis.set_ticklabels(datu_kopa['species'].unique());"
      ]
    },
    {
      "cell_type": "markdown",
      "metadata": {
        "id": "pJzEBdLZbvLp"
      },
      "source": [
        "Kļūdu matricā var redzēt, ka tikai 3 datu objekti tika klasificēti nepareizi, līdz ar to kopējā algoritma precizitāte ir diezgan augsta - 97%.Tā ir pat nedaudz augstākā nekā neironu tīkla modelim"
      ]
    }
  ],
  "metadata": {
    "colab": {
      "provenance": [],
      "toc_visible": true
    },
    "kernelspec": {
      "display_name": "Python 3",
      "language": "python",
      "name": "python3"
    },
    "language_info": {
      "codemirror_mode": {
        "name": "ipython",
        "version": 3
      },
      "file_extension": ".py",
      "mimetype": "text/x-python",
      "name": "python",
      "nbconvert_exporter": "python",
      "pygments_lexer": "ipython3",
      "version": "3.12.1"
    }
  },
  "nbformat": 4,
  "nbformat_minor": 0
}
